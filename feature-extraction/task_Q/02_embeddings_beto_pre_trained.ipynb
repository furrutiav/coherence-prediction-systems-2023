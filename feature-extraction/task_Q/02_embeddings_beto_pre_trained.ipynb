{
 "cells": [
  {
   "cell_type": "markdown",
   "id": "047ebd09",
   "metadata": {},
   "source": [
    "## Libreries"
   ]
  },
  {
   "cell_type": "code",
   "execution_count": 61,
   "id": "cf022f2d",
   "metadata": {},
   "outputs": [],
   "source": [
    "import pandas as pd\n",
    "import numpy as np\n",
    "import pickle\n",
    "\n",
    "from transformers import AutoTokenizer, AutoModel, BertModel, BertTokenizer\n",
    "import torch"
   ]
  },
  {
   "cell_type": "markdown",
   "id": "d0beb916",
   "metadata": {},
   "source": [
    "## Data"
   ]
  },
  {
   "cell_type": "code",
   "execution_count": 62,
   "id": "8d6fecd7",
   "metadata": {},
   "outputs": [],
   "source": [
    "Q_train = pd.read_excel(\"../../data/train_task_Q.xlsx\", index_col=\"id\")\n",
    "Q_val = pd.read_excel(\"../../data/val_task_Q.xlsx\", index_col=\"id\")\n",
    "Q_test = pd.read_excel(\"../../data/test_task_Q.xlsx\", index_col=\"id\")"
   ]
  },
  {
   "cell_type": "markdown",
   "id": "251c44ff",
   "metadata": {},
   "source": [
    "## Embeddings BETO"
   ]
  },
  {
   "cell_type": "markdown",
   "id": "d6fbbb0f",
   "metadata": {},
   "source": [
    "Load model [BETO](https://huggingface.co/dccuchile/bert-base-spanish-wwm-cased) from [huggingface](https://huggingface.co/) 🤗"
   ]
  },
  {
   "cell_type": "code",
   "execution_count": 63,
   "id": "304a9801",
   "metadata": {},
   "outputs": [
    {
     "name": "stderr",
     "output_type": "stream",
     "text": [
      "Some weights of the model checkpoint at dccuchile/bert-base-spanish-wwm-cased were not used when initializing BertModel: ['cls.predictions.transform.LayerNorm.bias', 'cls.predictions.decoder.weight', 'cls.predictions.transform.dense.bias', 'cls.predictions.transform.dense.weight', 'cls.predictions.bias', 'cls.predictions.transform.LayerNorm.weight', 'cls.predictions.decoder.bias']\n",
      "- This IS expected if you are initializing BertModel from the checkpoint of a model trained on another task or with another architecture (e.g. initializing a BertForSequenceClassification model from a BertForPreTraining model).\n",
      "- This IS NOT expected if you are initializing BertModel from the checkpoint of a model that you expect to be exactly identical (initializing a BertForSequenceClassification model from a BertForSequenceClassification model).\n",
      "Some weights of BertModel were not initialized from the model checkpoint at dccuchile/bert-base-spanish-wwm-cased and are newly initialized: ['bert.pooler.dense.bias', 'bert.pooler.dense.weight']\n",
      "You should probably TRAIN this model on a down-stream task to be able to use it for predictions and inference.\n"
     ]
    }
   ],
   "source": [
    "model_name = \"dccuchile/bert-base-spanish-wwm-cased\"\n",
    "beto_model = BertModel.from_pretrained(model_name)\n",
    "beto_tokenizer = AutoTokenizer.from_pretrained(model_name, do_lower_case=False)\n",
    "_ = beto_model.eval()\n",
    "__ = beto_model.zero_grad()"
   ]
  },
  {
   "cell_type": "code",
   "execution_count": 64,
   "id": "82a03cc0",
   "metadata": {},
   "outputs": [
    {
     "data": {
      "text/plain": [
       "(['[UNK]', '[SEP]', '[PAD]', '[CLS]', '[MASK]'], [3, 5, 1, 4, 0])"
      ]
     },
     "execution_count": 64,
     "metadata": {},
     "output_type": "execute_result"
    }
   ],
   "source": [
    "beto_tokenizer.all_special_tokens, beto_tokenizer.all_special_ids"
   ]
  },
  {
   "cell_type": "code",
   "execution_count": 65,
   "id": "954caee3",
   "metadata": {},
   "outputs": [],
   "source": [
    "def get_cls_from_text(text):\n",
    "    text = \" \".join(str(text).replace(\"\\n\", \" \").split())\n",
    "    \n",
    "    tokens = [\"[CLS]\", \"[UNK]\"]\n",
    "    if text != \"\":\n",
    "        tokens = beto_tokenizer.tokenize(text)\n",
    "        tokens = [\"[CLS]\"] + tokens\n",
    "    \n",
    "    input_ids = beto_tokenizer.convert_tokens_to_ids(tokens)    \n",
    "    input_ids_tensor = torch.tensor(input_ids)\n",
    "    \n",
    "    cont = beto_model(input_ids_tensor.unsqueeze(0))\n",
    "    cls_cont = cont.last_hidden_state[:, 0]\n",
    "    return cls_cont[0].detach().numpy()"
   ]
  },
  {
   "cell_type": "code",
   "execution_count": 66,
   "id": "77b4b424",
   "metadata": {},
   "outputs": [],
   "source": [
    "def get_embd(df, text_col=\"Q\"):\n",
    "    embeddings = []\n",
    "    for ix in df.index:\n",
    "        text = df.loc[ix][text_col]\n",
    "        embd = get_cls_from_text(text)\n",
    "        embeddings.append(embd)\n",
    "    o = pd.DataFrame(embeddings)\n",
    "    o[\"id\"] = df.index\n",
    "    o = o.set_index(\"id\")\n",
    "    return o"
   ]
  },
  {
   "cell_type": "code",
   "execution_count": 67,
   "id": "6b1ff23b",
   "metadata": {},
   "outputs": [
    {
     "name": "stdout",
     "output_type": "stream",
     "text": [
      "CPU times: total: 2min 34s\n",
      "Wall time: 26 s\n"
     ]
    }
   ],
   "source": [
    "%%time\n",
    "embd_Q_train = get_embd(Q_train, text_col=\"Q\")"
   ]
  },
  {
   "cell_type": "code",
   "execution_count": 68,
   "id": "4baa8423",
   "metadata": {},
   "outputs": [
    {
     "name": "stdout",
     "output_type": "stream",
     "text": [
      "CPU times: total: 41.2 s\n",
      "Wall time: 6.91 s\n"
     ]
    }
   ],
   "source": [
    "%%time\n",
    "embd_Q_val = get_embd(Q_val, text_col=\"Q\")"
   ]
  },
  {
   "cell_type": "code",
   "execution_count": 69,
   "id": "21e40810",
   "metadata": {},
   "outputs": [
    {
     "name": "stdout",
     "output_type": "stream",
     "text": [
      "CPU times: total: 2min 24s\n",
      "Wall time: 24.2 s\n"
     ]
    }
   ],
   "source": [
    "%%time\n",
    "embd_Q_test = get_embd(Q_test, text_col=\"Q\")"
   ]
  },
  {
   "cell_type": "markdown",
   "id": "74525640",
   "metadata": {},
   "source": [
    "## Save features"
   ]
  },
  {
   "cell_type": "code",
   "execution_count": 70,
   "id": "51763adb",
   "metadata": {},
   "outputs": [],
   "source": [
    "embd_Q_train.to_excel(\"../features/beto_pt_features_train_task_Q.xlsx\")\n",
    "embd_Q_val.to_excel(\"../features/beto_pt_features_val_task_Q.xlsx\")\n",
    "embd_Q_test.to_excel(\"../features/beto_pt_features_test_task_Q.xlsx\")"
   ]
  }
 ],
 "metadata": {
  "kernelspec": {
   "display_name": "Python 3 (ipykernel)",
   "language": "python",
   "name": "python3"
  },
  "language_info": {
   "codemirror_mode": {
    "name": "ipython",
    "version": 3
   },
   "file_extension": ".py",
   "mimetype": "text/x-python",
   "name": "python",
   "nbconvert_exporter": "python",
   "pygments_lexer": "ipython3",
   "version": "3.8.13"
  }
 },
 "nbformat": 4,
 "nbformat_minor": 5
}
