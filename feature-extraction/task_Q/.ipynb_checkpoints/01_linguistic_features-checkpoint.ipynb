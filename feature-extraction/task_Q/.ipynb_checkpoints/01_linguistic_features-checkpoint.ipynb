{
 "cells": [
  {
   "cell_type": "markdown",
   "id": "c9756a74",
   "metadata": {},
   "source": [
    "## Libreries"
   ]
  },
  {
   "cell_type": "code",
   "execution_count": 81,
   "id": "53a07737",
   "metadata": {},
   "outputs": [],
   "source": [
    "import pandas as pd\n",
    "import numpy as np\n",
    "import pickle"
   ]
  },
  {
   "cell_type": "markdown",
   "id": "5c15e812",
   "metadata": {},
   "source": [
    "## Data"
   ]
  },
  {
   "cell_type": "code",
   "execution_count": 82,
   "id": "69058c4e",
   "metadata": {},
   "outputs": [],
   "source": [
    "Q_train = pd.read_excel(\"../../data/train_task_Q.xlsx\", index_col=\"id\")\n",
    "Q_val = pd.read_excel(\"../../data/val_task_Q.xlsx\", index_col=\"id\")\n",
    "Q_test = pd.read_excel(\"../../data/test_task_Q.xlsx\", index_col=\"id\")"
   ]
  },
  {
   "cell_type": "markdown",
   "id": "1397c508",
   "metadata": {},
   "source": [
    "## Linguistic features"
   ]
  },
  {
   "cell_type": "markdown",
   "id": "02d9d70c",
   "metadata": {},
   "source": [
    "spacy"
   ]
  },
  {
   "cell_type": "code",
   "execution_count": 83,
   "id": "dbed8f88",
   "metadata": {},
   "outputs": [],
   "source": [
    "%%capture\n",
    "!pip install -U spacy\n",
    "import spacy\n",
    "!python -m spacy download es_core_news_md\n",
    "nlp = spacy.load('es_core_news_md')"
   ]
  },
  {
   "cell_type": "code",
   "execution_count": 84,
   "id": "7f37a390",
   "metadata": {},
   "outputs": [],
   "source": [
    "def get_lf(df, text_col=\"Q\"):\n",
    "    data_lf = {}\n",
    "    N = df.shape[0]\n",
    "\n",
    "    cols = [\"lemma\", \"tag\", \"dep\",\n",
    "                \"shape\", \"is_alpha\", \"is_stop\"]\n",
    "\n",
    "    for i, ix in enumerate(df.index):\n",
    "        q = df.loc[ix][text_col].lower()\n",
    "        doc = nlp(q)   \n",
    "        for t in doc:\n",
    "            cols_per_t = [t.lemma_, t.tag_, t.dep_, t.shape_, t.is_alpha, t.is_stop]\n",
    "            for k, v in enumerate(cols_per_t):\n",
    "                name_col = f\"{cols[k]}<&>{v}\"\n",
    "                if name_col not in data_lf.keys():\n",
    "                    data_lf[name_col] = np.zeros(N, dtype=int)\n",
    "                data_lf[name_col][i] += 1\n",
    "    o = pd.DataFrame(data_lf)\n",
    "    o[\"id\"] = df.index\n",
    "    o = o.set_index(\"id\")\n",
    "    return o"
   ]
  },
  {
   "cell_type": "code",
   "execution_count": 85,
   "id": "997b08e0",
   "metadata": {},
   "outputs": [
    {
     "name": "stdout",
     "output_type": "stream",
     "text": [
      "Wall time: 1.77 s\n"
     ]
    }
   ],
   "source": [
    "%%time\n",
    "lf_Q_train = get_lf(Q_train, text_col=\"Q\")"
   ]
  },
  {
   "cell_type": "code",
   "execution_count": 86,
   "id": "3bf22614",
   "metadata": {},
   "outputs": [
    {
     "name": "stdout",
     "output_type": "stream",
     "text": [
      "Wall time: 458 ms\n"
     ]
    }
   ],
   "source": [
    "%%time\n",
    "lf_Q_val = get_lf(Q_val, text_col=\"Q\")"
   ]
  },
  {
   "cell_type": "code",
   "execution_count": 87,
   "id": "10f9ae32",
   "metadata": {},
   "outputs": [
    {
     "name": "stdout",
     "output_type": "stream",
     "text": [
      "Wall time: 1.76 s\n"
     ]
    }
   ],
   "source": [
    "%%time\n",
    "lf_Q_test = get_lf(Q_test, text_col=\"Q\")"
   ]
  },
  {
   "cell_type": "code",
   "execution_count": 88,
   "id": "9f4d4e84",
   "metadata": {},
   "outputs": [],
   "source": [
    "cols_train = set(lf_Q_train.columns)\n",
    "cols_val = set(lf_Q_val.columns)\n",
    "cols_test = set(lf_Q_test.columns)"
   ]
  },
  {
   "cell_type": "code",
   "execution_count": 89,
   "id": "b71fb265",
   "metadata": {},
   "outputs": [],
   "source": [
    "drop_val = cols_val.difference(cols_train)\n",
    "drop_test = cols_test.difference(cols_train)"
   ]
  },
  {
   "cell_type": "code",
   "execution_count": 90,
   "id": "e0397220",
   "metadata": {},
   "outputs": [],
   "source": [
    "add_val = cols_train.difference(cols_val)\n",
    "add_test = cols_train.difference(cols_test)"
   ]
  },
  {
   "cell_type": "code",
   "execution_count": 91,
   "id": "838644b9",
   "metadata": {},
   "outputs": [],
   "source": [
    "olf_Q_train = lf_Q_train"
   ]
  },
  {
   "cell_type": "code",
   "execution_count": 92,
   "id": "ab94d131",
   "metadata": {},
   "outputs": [],
   "source": [
    "olf_Q_val = lf_Q_val.drop(columns=drop_val)\n",
    "zero_cols = pd.concat([olf_Q_val.iloc[:, 0] * 0] * len(add_val), axis=1)\n",
    "zero_cols.columns = add_val\n",
    "olf_Q_val = pd.concat([olf_Q_val, zero_cols], axis=1)[olf_Q_train.columns]"
   ]
  },
  {
   "cell_type": "code",
   "execution_count": 93,
   "id": "4a943531",
   "metadata": {},
   "outputs": [],
   "source": [
    "olf_Q_test = lf_Q_test.drop(columns=drop_test)\n",
    "zero_cols = pd.concat([olf_Q_test.iloc[:, 0] * 0] * len(add_test), axis=1)\n",
    "zero_cols.columns = add_test\n",
    "olf_Q_test = pd.concat([olf_Q_test, zero_cols], axis=1)[olf_Q_train.columns]"
   ]
  },
  {
   "cell_type": "markdown",
   "id": "4606913b",
   "metadata": {},
   "source": [
    "## Save features"
   ]
  },
  {
   "cell_type": "code",
   "execution_count": 94,
   "id": "71b489cd",
   "metadata": {},
   "outputs": [],
   "source": [
    "olf_Q_train.to_excel(\"../features/lf_features_train_task_Q.xlsx\")\n",
    "olf_Q_val.to_excel(\"../features/lf_features_val_task_Q.xlsx\")\n",
    "olf_Q_test.to_excel(\"../features/lf_features_test_task_Q.xlsx\")"
   ]
  }
 ],
 "metadata": {
  "kernelspec": {
   "display_name": "Python 3 (ipykernel)",
   "language": "python",
   "name": "python3"
  },
  "language_info": {
   "codemirror_mode": {
    "name": "ipython",
    "version": 3
   },
   "file_extension": ".py",
   "mimetype": "text/x-python",
   "name": "python",
   "nbconvert_exporter": "python",
   "pygments_lexer": "ipython3",
   "version": "3.8.5"
  }
 },
 "nbformat": 4,
 "nbformat_minor": 5
}
