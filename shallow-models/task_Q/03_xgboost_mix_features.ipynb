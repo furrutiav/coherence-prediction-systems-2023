{
 "cells": [
  {
   "cell_type": "markdown",
   "id": "e8225bb2",
   "metadata": {},
   "source": [
    "## Libreries"
   ]
  },
  {
   "cell_type": "code",
   "execution_count": 1,
   "id": "c5f7e5d9",
   "metadata": {},
   "outputs": [],
   "source": [
    "import pandas as pd\n",
    "import pickle\n",
    "import numpy as np"
   ]
  },
  {
   "cell_type": "markdown",
   "id": "645b37e7",
   "metadata": {},
   "source": [
    "## Data"
   ]
  },
  {
   "cell_type": "code",
   "execution_count": 2,
   "id": "bac24508",
   "metadata": {},
   "outputs": [],
   "source": [
    "beto_pt_features_train = pd.read_excel(\"../../feature-engineering/features/beto_pt_features_train_task_Q.xlsx\", index_col=\"id\")\n",
    "beto_pt_features_val = pd.read_excel(\"../../feature-engineering/features/beto_pt_features_val_task_Q.xlsx\", index_col=\"id\")\n",
    "beto_pt_features_test = pd.read_excel(\"../../feature-engineering/features/beto_pt_features_test_task_Q.xlsx\", index_col=\"id\")"
   ]
  },
  {
   "cell_type": "code",
   "execution_count": 3,
   "id": "9fa933d2",
   "metadata": {},
   "outputs": [],
   "source": [
    "lf_features_train = pd.read_excel(\"../../feature-engineering/features/lf_features_train_task_Q.xlsx\", index_col=\"id\")\n",
    "lf_features_val = pd.read_excel(\"../../feature-engineering/features/lf_features_val_task_Q.xlsx\", index_col=\"id\")\n",
    "lf_features_test = pd.read_excel(\"../../feature-engineering/features/lf_features_test_task_Q.xlsx\", index_col=\"id\")"
   ]
  },
  {
   "cell_type": "code",
   "execution_count": 4,
   "id": "b4766cbe",
   "metadata": {},
   "outputs": [],
   "source": [
    "Q_train = pd.read_excel(\"../../data/train_task_Q.xlsx\", index_col=\"id\")\n",
    "Q_val = pd.read_excel(\"../../data/val_task_Q.xlsx\", index_col=\"id\")\n",
    "Q_test = pd.read_excel(\"../../data/test_task_Q.xlsx\", index_col=\"id\")"
   ]
  },
  {
   "cell_type": "code",
   "execution_count": 5,
   "id": "a36844cf",
   "metadata": {},
   "outputs": [],
   "source": [
    "cols_beto = [f\"beto<&>{x}\" for x in range(768)]"
   ]
  },
  {
   "cell_type": "code",
   "execution_count": 6,
   "id": "d968bd28",
   "metadata": {},
   "outputs": [],
   "source": [
    "beto_pt_features_train.columns = cols_beto\n",
    "beto_pt_features_val.columns = cols_beto\n",
    "beto_pt_features_test.columns = cols_beto"
   ]
  },
  {
   "cell_type": "code",
   "execution_count": 7,
   "id": "72430477",
   "metadata": {},
   "outputs": [],
   "source": [
    "X_train = pd.concat([lf_features_train, beto_pt_features_train], axis=1)\n",
    "X_val = pd.concat([lf_features_val, beto_pt_features_val], axis=1)\n",
    "X_test = pd.concat([lf_features_test, beto_pt_features_test], axis=1)"
   ]
  },
  {
   "cell_type": "code",
   "execution_count": 8,
   "id": "0740be38",
   "metadata": {},
   "outputs": [],
   "source": [
    "y_train = Q_train[\"label\"]\n",
    "X_train = X_train.loc[y_train.index]\n",
    "\n",
    "y_test = Q_test[\"label\"]\n",
    "X_test = X_test.loc[y_test.index]\n",
    "\n",
    "y_val = Q_val[\"label\"]\n",
    "X_val = X_val.loc[y_val.index]"
   ]
  },
  {
   "cell_type": "markdown",
   "id": "3305eb7e",
   "metadata": {},
   "source": []
  },
  {
   "cell_type": "code",
   "execution_count": 9,
   "id": "2ce8f55a",
   "metadata": {},
   "outputs": [],
   "source": [
    "from xgboost import XGBClassifier\n",
    "from sklearn.metrics import classification_report"
   ]
  },
  {
   "cell_type": "code",
   "execution_count": 10,
   "id": "e7b73e80",
   "metadata": {},
   "outputs": [],
   "source": [
    "X_train.columns = range(X_train.shape[1])"
   ]
  },
  {
   "cell_type": "code",
   "execution_count": 11,
   "id": "c2615a0d",
   "metadata": {},
   "outputs": [
    {
     "name": "stdout",
     "output_type": "stream",
     "text": [
      "CPU times: total: 27.3 s\n",
      "Wall time: 2.51 s\n"
     ]
    },
    {
     "data": {
      "text/plain": [
       "XGBClassifier(base_score=0.5, booster='gbtree', callbacks=None,\n",
       "              colsample_bylevel=1, colsample_bynode=1, colsample_bytree=1,\n",
       "              early_stopping_rounds=None, enable_categorical=False,\n",
       "              eval_metric=None, gamma=0, gpu_id=-1, grow_policy='depthwise',\n",
       "              importance_type=None, interaction_constraints='',\n",
       "              learning_rate=0.001, max_bin=256, max_cat_to_onehot=4,\n",
       "              max_delta_step=0, max_depth=4, max_leaves=0, min_child_weight=1,\n",
       "              missing=nan, monotone_constraints='()', n_estimators=100,\n",
       "              n_jobs=0, num_parallel_tree=1, objective='multi:softprob',\n",
       "              predictor='auto', random_state=2022, reg_alpha=0, ...)"
      ]
     },
     "execution_count": 11,
     "metadata": {},
     "output_type": "execute_result"
    }
   ],
   "source": [
    "%%time\n",
    "xgb = XGBClassifier(max_depth=4, n_estimators=100, learning_rate=0.001, seed=2022)\n",
    "xgb.fit(X_train, y_train)"
   ]
  },
  {
   "cell_type": "code",
   "execution_count": 12,
   "id": "87cdb627",
   "metadata": {},
   "outputs": [
    {
     "name": "stdout",
     "output_type": "stream",
     "text": [
      "              precision    recall  f1-score   support\n",
      "\n",
      "           0       0.00      0.00      0.00         4\n",
      "           1       0.88      0.58      0.70        12\n",
      "           2       0.73      0.95      0.83        20\n",
      "           3       1.00      1.00      1.00        17\n",
      "           4       1.00      0.80      0.89         5\n",
      "           5       0.50      0.71      0.59         7\n",
      "\n",
      "    accuracy                           0.80        65\n",
      "   macro avg       0.68      0.67      0.67        65\n",
      "weighted avg       0.78      0.80      0.78        65\n",
      "\n"
     ]
    },
    {
     "name": "stderr",
     "output_type": "stream",
     "text": [
      "C:\\Users\\felip\\anaconda3\\envs\\nn\\lib\\site-packages\\sklearn\\metrics\\_classification.py:1318: UndefinedMetricWarning: Precision and F-score are ill-defined and being set to 0.0 in labels with no predicted samples. Use `zero_division` parameter to control this behavior.\n",
      "  _warn_prf(average, modifier, msg_start, len(result))\n",
      "C:\\Users\\felip\\anaconda3\\envs\\nn\\lib\\site-packages\\sklearn\\metrics\\_classification.py:1318: UndefinedMetricWarning: Precision and F-score are ill-defined and being set to 0.0 in labels with no predicted samples. Use `zero_division` parameter to control this behavior.\n",
      "  _warn_prf(average, modifier, msg_start, len(result))\n",
      "C:\\Users\\felip\\anaconda3\\envs\\nn\\lib\\site-packages\\sklearn\\metrics\\_classification.py:1318: UndefinedMetricWarning: Precision and F-score are ill-defined and being set to 0.0 in labels with no predicted samples. Use `zero_division` parameter to control this behavior.\n",
      "  _warn_prf(average, modifier, msg_start, len(result))\n"
     ]
    }
   ],
   "source": [
    "y_pred = xgb.predict(X_val)\n",
    "print(classification_report(y_val, y_pred))"
   ]
  },
  {
   "cell_type": "code",
   "execution_count": 13,
   "id": "9fa81e29",
   "metadata": {},
   "outputs": [
    {
     "name": "stdout",
     "output_type": "stream",
     "text": [
      "              precision    recall  f1-score   support\n",
      "\n",
      "           0       0.21      0.11      0.15        27\n",
      "           1       0.08      0.14      0.10         7\n",
      "           2       0.42      0.50      0.46        32\n",
      "           3       0.83      0.92      0.88       146\n",
      "           4       0.08      0.50      0.14         2\n",
      "           5       0.73      0.41      0.53        58\n",
      "\n",
      "    accuracy                           0.66       272\n",
      "   macro avg       0.39      0.43      0.38       272\n",
      "weighted avg       0.68      0.66      0.65       272\n",
      "\n"
     ]
    }
   ],
   "source": [
    "y_pred = xgb.predict(X_test)\n",
    "print(classification_report(y_test, y_pred))"
   ]
  },
  {
   "cell_type": "code",
   "execution_count": 14,
   "id": "c4649491",
   "metadata": {},
   "outputs": [],
   "source": [
    "from sklearn.model_selection import GridSearchCV"
   ]
  },
  {
   "cell_type": "code",
   "execution_count": 16,
   "id": "a6815165",
   "metadata": {},
   "outputs": [],
   "source": [
    "parameters = {\n",
    "    'max_depth': [4, 6, 8], \n",
    "    \"n_estimators\": [150, 125, 100],\n",
    "    \"learning_rate\": [0.1, 0.3, 0.5],\n",
    "}"
   ]
  },
  {
   "cell_type": "code",
   "execution_count": 17,
   "id": "4af3ad86",
   "metadata": {},
   "outputs": [],
   "source": [
    "clf = GridSearchCV(xgb, parameters, scoring=\"f1_macro\", cv=5, verbose=1)"
   ]
  },
  {
   "cell_type": "code",
   "execution_count": 18,
   "id": "8422fb6e",
   "metadata": {},
   "outputs": [
    {
     "name": "stdout",
     "output_type": "stream",
     "text": [
      "Fitting 5 folds for each of 27 candidates, totalling 135 fits\n",
      "CPU times: total: 34min 49s\n",
      "Wall time: 3min 3s\n"
     ]
    },
    {
     "data": {
      "text/plain": [
       "GridSearchCV(cv=5,\n",
       "             estimator=XGBClassifier(base_score=0.5, booster='gbtree',\n",
       "                                     callbacks=None, colsample_bylevel=1,\n",
       "                                     colsample_bynode=1, colsample_bytree=1,\n",
       "                                     early_stopping_rounds=None,\n",
       "                                     enable_categorical=False, eval_metric=None,\n",
       "                                     gamma=0, gpu_id=-1,\n",
       "                                     grow_policy='depthwise',\n",
       "                                     importance_type=None,\n",
       "                                     interaction_constraints='',\n",
       "                                     learning_rate=0.001, max_bin=256,\n",
       "                                     max_cat_to_onehot=4, max_delta_step=0,\n",
       "                                     max_depth=4, max_leaves=0,\n",
       "                                     min_child_weight=1, missing=nan,\n",
       "                                     monotone_constraints='()',\n",
       "                                     n_estimators=100, n_jobs=0,\n",
       "                                     num_parallel_tree=1,\n",
       "                                     objective='multi:softprob',\n",
       "                                     predictor='auto', random_state=2022,\n",
       "                                     reg_alpha=0, ...),\n",
       "             param_grid={'learning_rate': [0.1, 0.3, 0.5],\n",
       "                         'max_depth': [4, 6, 8],\n",
       "                         'n_estimators': [150, 125, 100]},\n",
       "             scoring='f1_macro', verbose=1)"
      ]
     },
     "execution_count": 18,
     "metadata": {},
     "output_type": "execute_result"
    }
   ],
   "source": [
    "%%time\n",
    "clf.fit(X_train, y_train)"
   ]
  },
  {
   "cell_type": "code",
   "execution_count": 19,
   "id": "28fd20f5",
   "metadata": {},
   "outputs": [
    {
     "name": "stdout",
     "output_type": "stream",
     "text": [
      "max_depth: 8\n",
      "n_estimators: 100\n",
      "learning_rate: 0.3\n"
     ]
    }
   ],
   "source": [
    "best_params = {}\n",
    "for k in parameters:\n",
    "    best_params[k] = vars(clf.best_estimator_)[k]\n",
    "    print(f\"{k}:\", best_params[k])"
   ]
  },
  {
   "cell_type": "code",
   "execution_count": 20,
   "id": "d0535786",
   "metadata": {},
   "outputs": [
    {
     "data": {
      "text/html": [
       "<div>\n",
       "<style scoped>\n",
       "    .dataframe tbody tr th:only-of-type {\n",
       "        vertical-align: middle;\n",
       "    }\n",
       "\n",
       "    .dataframe tbody tr th {\n",
       "        vertical-align: top;\n",
       "    }\n",
       "\n",
       "    .dataframe thead th {\n",
       "        text-align: right;\n",
       "    }\n",
       "</style>\n",
       "<table border=\"1\" class=\"dataframe\">\n",
       "  <thead>\n",
       "    <tr style=\"text-align: right;\">\n",
       "      <th></th>\n",
       "      <th>0</th>\n",
       "      <th>1</th>\n",
       "      <th>2</th>\n",
       "      <th>3</th>\n",
       "      <th>4</th>\n",
       "      <th>5</th>\n",
       "      <th>accuracy</th>\n",
       "      <th>macro avg</th>\n",
       "      <th>weighted avg</th>\n",
       "    </tr>\n",
       "  </thead>\n",
       "  <tbody>\n",
       "    <tr>\n",
       "      <th>precision</th>\n",
       "      <td>1.0</td>\n",
       "      <td>1.0</td>\n",
       "      <td>1.0</td>\n",
       "      <td>1.0</td>\n",
       "      <td>1.0</td>\n",
       "      <td>1.0</td>\n",
       "      <td>1.0</td>\n",
       "      <td>1.0</td>\n",
       "      <td>1.0</td>\n",
       "    </tr>\n",
       "    <tr>\n",
       "      <th>recall</th>\n",
       "      <td>1.0</td>\n",
       "      <td>1.0</td>\n",
       "      <td>1.0</td>\n",
       "      <td>1.0</td>\n",
       "      <td>1.0</td>\n",
       "      <td>1.0</td>\n",
       "      <td>1.0</td>\n",
       "      <td>1.0</td>\n",
       "      <td>1.0</td>\n",
       "    </tr>\n",
       "    <tr>\n",
       "      <th>f1-score</th>\n",
       "      <td>1.0</td>\n",
       "      <td>1.0</td>\n",
       "      <td>1.0</td>\n",
       "      <td>1.0</td>\n",
       "      <td>1.0</td>\n",
       "      <td>1.0</td>\n",
       "      <td>1.0</td>\n",
       "      <td>1.0</td>\n",
       "      <td>1.0</td>\n",
       "    </tr>\n",
       "    <tr>\n",
       "      <th>support</th>\n",
       "      <td>13.0</td>\n",
       "      <td>48.0</td>\n",
       "      <td>78.0</td>\n",
       "      <td>64.0</td>\n",
       "      <td>17.0</td>\n",
       "      <td>27.0</td>\n",
       "      <td>1.0</td>\n",
       "      <td>247.0</td>\n",
       "      <td>247.0</td>\n",
       "    </tr>\n",
       "  </tbody>\n",
       "</table>\n",
       "</div>"
      ],
      "text/plain": [
       "              0     1     2     3     4     5  accuracy  macro avg  \\\n",
       "precision   1.0   1.0   1.0   1.0   1.0   1.0       1.0        1.0   \n",
       "recall      1.0   1.0   1.0   1.0   1.0   1.0       1.0        1.0   \n",
       "f1-score    1.0   1.0   1.0   1.0   1.0   1.0       1.0        1.0   \n",
       "support    13.0  48.0  78.0  64.0  17.0  27.0       1.0      247.0   \n",
       "\n",
       "           weighted avg  \n",
       "precision           1.0  \n",
       "recall              1.0  \n",
       "f1-score            1.0  \n",
       "support           247.0  "
      ]
     },
     "execution_count": 20,
     "metadata": {},
     "output_type": "execute_result"
    }
   ],
   "source": [
    "y_pred = clf.predict(X_train)\n",
    "report = classification_report(y_train, y_pred, output_dict=True)\n",
    "train_report = pd.DataFrame(report)\n",
    "train_report"
   ]
  },
  {
   "cell_type": "code",
   "execution_count": 21,
   "id": "a2924e81",
   "metadata": {},
   "outputs": [
    {
     "name": "stderr",
     "output_type": "stream",
     "text": [
      "C:\\Users\\felip\\anaconda3\\envs\\nn\\lib\\site-packages\\sklearn\\metrics\\_classification.py:1318: UndefinedMetricWarning: Precision and F-score are ill-defined and being set to 0.0 in labels with no predicted samples. Use `zero_division` parameter to control this behavior.\n",
      "  _warn_prf(average, modifier, msg_start, len(result))\n",
      "C:\\Users\\felip\\anaconda3\\envs\\nn\\lib\\site-packages\\sklearn\\metrics\\_classification.py:1318: UndefinedMetricWarning: Precision and F-score are ill-defined and being set to 0.0 in labels with no predicted samples. Use `zero_division` parameter to control this behavior.\n",
      "  _warn_prf(average, modifier, msg_start, len(result))\n",
      "C:\\Users\\felip\\anaconda3\\envs\\nn\\lib\\site-packages\\sklearn\\metrics\\_classification.py:1318: UndefinedMetricWarning: Precision and F-score are ill-defined and being set to 0.0 in labels with no predicted samples. Use `zero_division` parameter to control this behavior.\n",
      "  _warn_prf(average, modifier, msg_start, len(result))\n"
     ]
    },
    {
     "data": {
      "text/html": [
       "<div>\n",
       "<style scoped>\n",
       "    .dataframe tbody tr th:only-of-type {\n",
       "        vertical-align: middle;\n",
       "    }\n",
       "\n",
       "    .dataframe tbody tr th {\n",
       "        vertical-align: top;\n",
       "    }\n",
       "\n",
       "    .dataframe thead th {\n",
       "        text-align: right;\n",
       "    }\n",
       "</style>\n",
       "<table border=\"1\" class=\"dataframe\">\n",
       "  <thead>\n",
       "    <tr style=\"text-align: right;\">\n",
       "      <th></th>\n",
       "      <th>0</th>\n",
       "      <th>1</th>\n",
       "      <th>2</th>\n",
       "      <th>3</th>\n",
       "      <th>4</th>\n",
       "      <th>5</th>\n",
       "      <th>accuracy</th>\n",
       "      <th>macro avg</th>\n",
       "      <th>weighted avg</th>\n",
       "    </tr>\n",
       "  </thead>\n",
       "  <tbody>\n",
       "    <tr>\n",
       "      <th>precision</th>\n",
       "      <td>0.0</td>\n",
       "      <td>0.785714</td>\n",
       "      <td>0.869565</td>\n",
       "      <td>1.0</td>\n",
       "      <td>1.000000</td>\n",
       "      <td>0.666667</td>\n",
       "      <td>0.861538</td>\n",
       "      <td>0.720324</td>\n",
       "      <td>0.822870</td>\n",
       "    </tr>\n",
       "    <tr>\n",
       "      <th>recall</th>\n",
       "      <td>0.0</td>\n",
       "      <td>0.916667</td>\n",
       "      <td>1.000000</td>\n",
       "      <td>1.0</td>\n",
       "      <td>0.400000</td>\n",
       "      <td>0.857143</td>\n",
       "      <td>0.861538</td>\n",
       "      <td>0.695635</td>\n",
       "      <td>0.861538</td>\n",
       "    </tr>\n",
       "    <tr>\n",
       "      <th>f1-score</th>\n",
       "      <td>0.0</td>\n",
       "      <td>0.846154</td>\n",
       "      <td>0.930233</td>\n",
       "      <td>1.0</td>\n",
       "      <td>0.571429</td>\n",
       "      <td>0.750000</td>\n",
       "      <td>0.861538</td>\n",
       "      <td>0.682969</td>\n",
       "      <td>0.828702</td>\n",
       "    </tr>\n",
       "    <tr>\n",
       "      <th>support</th>\n",
       "      <td>4.0</td>\n",
       "      <td>12.000000</td>\n",
       "      <td>20.000000</td>\n",
       "      <td>17.0</td>\n",
       "      <td>5.000000</td>\n",
       "      <td>7.000000</td>\n",
       "      <td>0.861538</td>\n",
       "      <td>65.000000</td>\n",
       "      <td>65.000000</td>\n",
       "    </tr>\n",
       "  </tbody>\n",
       "</table>\n",
       "</div>"
      ],
      "text/plain": [
       "             0          1          2     3         4         5  accuracy  \\\n",
       "precision  0.0   0.785714   0.869565   1.0  1.000000  0.666667  0.861538   \n",
       "recall     0.0   0.916667   1.000000   1.0  0.400000  0.857143  0.861538   \n",
       "f1-score   0.0   0.846154   0.930233   1.0  0.571429  0.750000  0.861538   \n",
       "support    4.0  12.000000  20.000000  17.0  5.000000  7.000000  0.861538   \n",
       "\n",
       "           macro avg  weighted avg  \n",
       "precision   0.720324      0.822870  \n",
       "recall      0.695635      0.861538  \n",
       "f1-score    0.682969      0.828702  \n",
       "support    65.000000     65.000000  "
      ]
     },
     "execution_count": 21,
     "metadata": {},
     "output_type": "execute_result"
    }
   ],
   "source": [
    "y_pred = clf.predict(X_val)\n",
    "report = classification_report(y_val, y_pred, output_dict=True)\n",
    "val_report = pd.DataFrame(report)\n",
    "val_report"
   ]
  },
  {
   "cell_type": "code",
   "execution_count": 22,
   "id": "a5140355",
   "metadata": {},
   "outputs": [
    {
     "data": {
      "text/html": [
       "<div>\n",
       "<style scoped>\n",
       "    .dataframe tbody tr th:only-of-type {\n",
       "        vertical-align: middle;\n",
       "    }\n",
       "\n",
       "    .dataframe tbody tr th {\n",
       "        vertical-align: top;\n",
       "    }\n",
       "\n",
       "    .dataframe thead th {\n",
       "        text-align: right;\n",
       "    }\n",
       "</style>\n",
       "<table border=\"1\" class=\"dataframe\">\n",
       "  <thead>\n",
       "    <tr style=\"text-align: right;\">\n",
       "      <th></th>\n",
       "      <th>0</th>\n",
       "      <th>1</th>\n",
       "      <th>2</th>\n",
       "      <th>3</th>\n",
       "      <th>4</th>\n",
       "      <th>5</th>\n",
       "      <th>accuracy</th>\n",
       "      <th>macro avg</th>\n",
       "      <th>weighted avg</th>\n",
       "    </tr>\n",
       "  </thead>\n",
       "  <tbody>\n",
       "    <tr>\n",
       "      <th>precision</th>\n",
       "      <td>0.250000</td>\n",
       "      <td>0.307692</td>\n",
       "      <td>0.482759</td>\n",
       "      <td>0.832298</td>\n",
       "      <td>0.666667</td>\n",
       "      <td>0.827586</td>\n",
       "      <td>0.713235</td>\n",
       "      <td>0.561167</td>\n",
       "      <td>0.717651</td>\n",
       "    </tr>\n",
       "    <tr>\n",
       "      <th>recall</th>\n",
       "      <td>0.074074</td>\n",
       "      <td>0.571429</td>\n",
       "      <td>0.875000</td>\n",
       "      <td>0.917808</td>\n",
       "      <td>1.000000</td>\n",
       "      <td>0.413793</td>\n",
       "      <td>0.713235</td>\n",
       "      <td>0.642017</td>\n",
       "      <td>0.713235</td>\n",
       "    </tr>\n",
       "    <tr>\n",
       "      <th>f1-score</th>\n",
       "      <td>0.114286</td>\n",
       "      <td>0.400000</td>\n",
       "      <td>0.622222</td>\n",
       "      <td>0.872964</td>\n",
       "      <td>0.800000</td>\n",
       "      <td>0.551724</td>\n",
       "      <td>0.713235</td>\n",
       "      <td>0.560199</td>\n",
       "      <td>0.686947</td>\n",
       "    </tr>\n",
       "    <tr>\n",
       "      <th>support</th>\n",
       "      <td>27.000000</td>\n",
       "      <td>7.000000</td>\n",
       "      <td>32.000000</td>\n",
       "      <td>146.000000</td>\n",
       "      <td>2.000000</td>\n",
       "      <td>58.000000</td>\n",
       "      <td>0.713235</td>\n",
       "      <td>272.000000</td>\n",
       "      <td>272.000000</td>\n",
       "    </tr>\n",
       "  </tbody>\n",
       "</table>\n",
       "</div>"
      ],
      "text/plain": [
       "                   0         1          2           3         4          5  \\\n",
       "precision   0.250000  0.307692   0.482759    0.832298  0.666667   0.827586   \n",
       "recall      0.074074  0.571429   0.875000    0.917808  1.000000   0.413793   \n",
       "f1-score    0.114286  0.400000   0.622222    0.872964  0.800000   0.551724   \n",
       "support    27.000000  7.000000  32.000000  146.000000  2.000000  58.000000   \n",
       "\n",
       "           accuracy   macro avg  weighted avg  \n",
       "precision  0.713235    0.561167      0.717651  \n",
       "recall     0.713235    0.642017      0.713235  \n",
       "f1-score   0.713235    0.560199      0.686947  \n",
       "support    0.713235  272.000000    272.000000  "
      ]
     },
     "execution_count": 22,
     "metadata": {},
     "output_type": "execute_result"
    }
   ],
   "source": [
    "y_pred = clf.predict(X_test)\n",
    "report = classification_report(y_test, y_pred, output_dict=True)\n",
    "test_report = pd.DataFrame(report)\n",
    "test_report"
   ]
  },
  {
   "cell_type": "markdown",
   "id": "7767ecf4",
   "metadata": {},
   "source": []
  },
  {
   "cell_type": "code",
   "execution_count": 23,
   "id": "984d3df0",
   "metadata": {},
   "outputs": [],
   "source": [
    "pickle.dump(clf, open(\"results/clf_xgboost_mix_task_Q.pickle\", \"wb\"))"
   ]
  },
  {
   "cell_type": "code",
   "execution_count": 24,
   "id": "65800507",
   "metadata": {},
   "outputs": [],
   "source": [
    "pickle.dump(best_params, open(\"results/best_params_xgboost_mix_task_Q.pickle\", \"wb\"))"
   ]
  },
  {
   "cell_type": "code",
   "execution_count": 25,
   "id": "ba413fe4",
   "metadata": {},
   "outputs": [],
   "source": [
    "pickle.dump(train_report, open(\"results/train_report_xgboost_mix_task_Q.pickle\", \"wb\"))"
   ]
  },
  {
   "cell_type": "code",
   "execution_count": 26,
   "id": "2b0ccbd1",
   "metadata": {},
   "outputs": [],
   "source": [
    "pickle.dump(val_report, open(\"results/val_report_xgboost_mix_task_Q.pickle\", \"wb\"))"
   ]
  },
  {
   "cell_type": "code",
   "execution_count": 27,
   "id": "d02c352b",
   "metadata": {},
   "outputs": [],
   "source": [
    "pickle.dump(test_report, open(\"results/test_report_xgboost_mix_task_Q.pickle\", \"wb\"))"
   ]
  }
 ],
 "metadata": {
  "kernelspec": {
   "display_name": "Python 3 (ipykernel)",
   "language": "python",
   "name": "python3"
  },
  "language_info": {
   "codemirror_mode": {
    "name": "ipython",
    "version": 3
   },
   "file_extension": ".py",
   "mimetype": "text/x-python",
   "name": "python",
   "nbconvert_exporter": "python",
   "pygments_lexer": "ipython3",
   "version": "3.8.13"
  }
 },
 "nbformat": 4,
 "nbformat_minor": 5
}
