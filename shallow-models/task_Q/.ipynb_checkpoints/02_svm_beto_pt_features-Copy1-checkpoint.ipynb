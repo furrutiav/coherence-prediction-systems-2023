{
 "cells": [
  {
   "cell_type": "markdown",
   "id": "e8225bb2",
   "metadata": {},
   "source": [
    "## Libreries"
   ]
  },
  {
   "cell_type": "code",
   "execution_count": 2,
   "id": "c5f7e5d9",
   "metadata": {},
   "outputs": [],
   "source": [
    "import pandas as pd\n",
    "import pickle\n",
    "import numpy as np"
   ]
  },
  {
   "cell_type": "markdown",
   "id": "645b37e7",
   "metadata": {},
   "source": [
    "## Data"
   ]
  },
  {
   "cell_type": "code",
   "execution_count": 5,
   "id": "bac24508",
   "metadata": {},
   "outputs": [],
   "source": [
    "features_train = pd.read_excel(\"../../feature-engineering/features/beto_pt_features_train_task_Q.xlsx\", index_col=\"id\")\n",
    "features_val = pd.read_excel(\"../../feature-engineering/features/beto_pt_features_val_task_Q.xlsx\", index_col=\"id\")\n",
    "features_test = pd.read_excel(\"../../feature-engineering/features/beto_pt_features_test_task_Q.xlsx\", index_col=\"id\")"
   ]
  },
  {
   "cell_type": "code",
   "execution_count": 4,
   "id": "b4766cbe",
   "metadata": {},
   "outputs": [],
   "source": [
    "Q_train = pd.read_excel(\"../../data/train_task_Q.xlsx\", index_col=\"id\")\n",
    "Q_val = pd.read_excel(\"../../data/val_task_Q.xlsx\", index_col=\"id\")\n",
    "Q_test = pd.read_excel(\"../../data/test_task_Q.xlsx\", index_col=\"id\")"
   ]
  },
  {
   "cell_type": "code",
   "execution_count": 6,
   "id": "0740be38",
   "metadata": {},
   "outputs": [],
   "source": [
    "X_train, y_train = features_train, Q_train[\"label\"]\n",
    "X_train = X_train.loc[y_train.index]\n",
    "\n",
    "X_test, y_test = features_test, Q_test[\"label\"]\n",
    "X_test = X_test.loc[y_test.index]\n",
    "\n",
    "X_val, y_val = features_val, Q_val[\"label\"]\n",
    "X_val = X_val.loc[y_val.index]"
   ]
  },
  {
   "cell_type": "markdown",
   "id": "3305eb7e",
   "metadata": {},
   "source": []
  },
  {
   "cell_type": "code",
   "execution_count": 7,
   "id": "809a3b8a",
   "metadata": {},
   "outputs": [],
   "source": [
    "from sklearn.svm import SVC"
   ]
  },
  {
   "cell_type": "code",
   "execution_count": 8,
   "id": "31e7b99f",
   "metadata": {},
   "outputs": [
    {
     "name": "stdout",
     "output_type": "stream",
     "text": [
      "Wall time: 72.1 ms\n"
     ]
    },
    {
     "data": {
      "text/plain": [
       "SVC(probability=True, random_state=2022)"
      ]
     },
     "execution_count": 8,
     "metadata": {},
     "output_type": "execute_result"
    }
   ],
   "source": [
    "%%time\n",
    "svc = SVC(\n",
    "    probability=True, \n",
    "    random_state=2022\n",
    ")\n",
    "svc.fit(X_train, y_train)"
   ]
  },
  {
   "cell_type": "code",
   "execution_count": 9,
   "id": "868642b7",
   "metadata": {},
   "outputs": [],
   "source": [
    "y_pred = svc.predict(X_val)"
   ]
  },
  {
   "cell_type": "code",
   "execution_count": 10,
   "id": "c71325d7",
   "metadata": {},
   "outputs": [],
   "source": [
    "from sklearn.metrics import classification_report"
   ]
  },
  {
   "cell_type": "code",
   "execution_count": 11,
   "id": "1ca45a73",
   "metadata": {},
   "outputs": [
    {
     "name": "stdout",
     "output_type": "stream",
     "text": [
      "              precision    recall  f1-score   support\n",
      "\n",
      "           0       0.00      0.00      0.00         4\n",
      "           1       0.80      1.00      0.89        12\n",
      "           2       0.65      1.00      0.78        20\n",
      "           3       1.00      0.88      0.94        17\n",
      "           4       1.00      0.20      0.33         5\n",
      "           5       1.00      0.43      0.60         7\n",
      "\n",
      "    accuracy                           0.78        65\n",
      "   macro avg       0.74      0.59      0.59        65\n",
      "weighted avg       0.79      0.78      0.74        65\n",
      "\n"
     ]
    },
    {
     "name": "stderr",
     "output_type": "stream",
     "text": [
      "C:\\Users\\felip\\anaconda3\\lib\\site-packages\\sklearn\\metrics\\_classification.py:1318: UndefinedMetricWarning: Precision and F-score are ill-defined and being set to 0.0 in labels with no predicted samples. Use `zero_division` parameter to control this behavior.\n",
      "  _warn_prf(average, modifier, msg_start, len(result))\n",
      "C:\\Users\\felip\\anaconda3\\lib\\site-packages\\sklearn\\metrics\\_classification.py:1318: UndefinedMetricWarning: Precision and F-score are ill-defined and being set to 0.0 in labels with no predicted samples. Use `zero_division` parameter to control this behavior.\n",
      "  _warn_prf(average, modifier, msg_start, len(result))\n",
      "C:\\Users\\felip\\anaconda3\\lib\\site-packages\\sklearn\\metrics\\_classification.py:1318: UndefinedMetricWarning: Precision and F-score are ill-defined and being set to 0.0 in labels with no predicted samples. Use `zero_division` parameter to control this behavior.\n",
      "  _warn_prf(average, modifier, msg_start, len(result))\n"
     ]
    }
   ],
   "source": [
    "print(classification_report(y_val, y_pred))"
   ]
  },
  {
   "cell_type": "code",
   "execution_count": 12,
   "id": "66be5763",
   "metadata": {},
   "outputs": [],
   "source": [
    "from sklearn.model_selection import GridSearchCV"
   ]
  },
  {
   "cell_type": "code",
   "execution_count": 13,
   "id": "e2fe9a3c",
   "metadata": {},
   "outputs": [],
   "source": [
    "parameters = {\n",
    "    'kernel': ['linear', 'rbf', \"sigmoid\", \"poly\"], \n",
    "    \"class_weight\": [\"balanced\", None],\n",
    "    \"gamma\": [\"scale\", \"auto\"],\n",
    "    'C':[1, 10, 100, 1000],\n",
    "}"
   ]
  },
  {
   "cell_type": "code",
   "execution_count": 14,
   "id": "327188d1",
   "metadata": {},
   "outputs": [],
   "source": [
    "clf = GridSearchCV(svc, parameters, scoring=\"f1_macro\", cv=5, verbose=1)"
   ]
  },
  {
   "cell_type": "code",
   "execution_count": 15,
   "id": "e98136c6",
   "metadata": {},
   "outputs": [
    {
     "name": "stdout",
     "output_type": "stream",
     "text": [
      "Fitting 5 folds for each of 64 candidates, totalling 320 fits\n",
      "Wall time: 16.1 s\n"
     ]
    },
    {
     "data": {
      "text/plain": [
       "GridSearchCV(cv=5, estimator=SVC(probability=True, random_state=2022),\n",
       "             param_grid={'C': [1, 10, 100, 1000],\n",
       "                         'class_weight': ['balanced', None],\n",
       "                         'gamma': ['scale', 'auto'],\n",
       "                         'kernel': ['linear', 'rbf', 'sigmoid', 'poly']},\n",
       "             scoring='f1_macro', verbose=1)"
      ]
     },
     "execution_count": 15,
     "metadata": {},
     "output_type": "execute_result"
    }
   ],
   "source": [
    "%%time\n",
    "clf.fit(X_train, y_train)"
   ]
  },
  {
   "cell_type": "code",
   "execution_count": 16,
   "id": "f7a6aab3",
   "metadata": {},
   "outputs": [
    {
     "data": {
      "text/plain": [
       "SVC(C=100, class_weight='balanced', gamma='auto', probability=True,\n",
       "    random_state=2022)"
      ]
     },
     "execution_count": 16,
     "metadata": {},
     "output_type": "execute_result"
    }
   ],
   "source": [
    "clf.best_estimator_"
   ]
  },
  {
   "cell_type": "code",
   "execution_count": 17,
   "id": "709254d5",
   "metadata": {},
   "outputs": [
    {
     "name": "stdout",
     "output_type": "stream",
     "text": [
      "              precision    recall  f1-score   support\n",
      "\n",
      "           0       1.00      0.25      0.40         4\n",
      "           1       0.79      0.92      0.85        12\n",
      "           2       0.83      0.95      0.88        20\n",
      "           3       1.00      0.88      0.94        17\n",
      "           4       0.50      0.60      0.55         5\n",
      "           5       1.00      0.86      0.92         7\n",
      "\n",
      "    accuracy                           0.85        65\n",
      "   macro avg       0.85      0.74      0.76        65\n",
      "weighted avg       0.87      0.85      0.84        65\n",
      "\n"
     ]
    }
   ],
   "source": [
    "y_pred = clf.predict(X_val)\n",
    "print(classification_report(y_val, y_pred))"
   ]
  },
  {
   "cell_type": "code",
   "execution_count": 18,
   "id": "1b91e31a",
   "metadata": {},
   "outputs": [
    {
     "name": "stdout",
     "output_type": "stream",
     "text": [
      "              precision    recall  f1-score   support\n",
      "\n",
      "           0       0.56      0.89      0.69        27\n",
      "           1       0.40      0.57      0.47         7\n",
      "           2       0.38      0.84      0.52        32\n",
      "           3       1.00      0.79      0.89       146\n",
      "           4       1.00      0.50      0.67         2\n",
      "           5       0.84      0.45      0.58        58\n",
      "\n",
      "    accuracy                           0.73       272\n",
      "   macro avg       0.70      0.67      0.64       272\n",
      "weighted avg       0.83      0.73      0.75       272\n",
      "\n"
     ]
    }
   ],
   "source": [
    "y_pred = clf.predict(X_test)\n",
    "print(classification_report(y_test, y_pred))"
   ]
  }
 ],
 "metadata": {
  "kernelspec": {
   "display_name": "Python 3 (ipykernel)",
   "language": "python",
   "name": "python3"
  },
  "language_info": {
   "codemirror_mode": {
    "name": "ipython",
    "version": 3
   },
   "file_extension": ".py",
   "mimetype": "text/x-python",
   "name": "python",
   "nbconvert_exporter": "python",
   "pygments_lexer": "ipython3",
   "version": "3.8.5"
  }
 },
 "nbformat": 4,
 "nbformat_minor": 5
}
