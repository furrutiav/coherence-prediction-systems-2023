{
 "cells": [
  {
   "cell_type": "markdown",
   "id": "ce39bc2f",
   "metadata": {},
   "source": [
    "## Libreries"
   ]
  },
  {
   "cell_type": "code",
   "execution_count": 1,
   "id": "f5831e00",
   "metadata": {},
   "outputs": [],
   "source": [
    "import pandas as pd\n",
    "import numpy as np\n",
    "import pickle"
   ]
  },
  {
   "cell_type": "markdown",
   "id": "2cc46a2e",
   "metadata": {},
   "source": [
    "## Data"
   ]
  },
  {
   "cell_type": "code",
   "execution_count": 6,
   "id": "9069dbd5",
   "metadata": {},
   "outputs": [
    {
     "name": "stdout",
     "output_type": "stream",
     "text": [
      "Wall time: 3.48 s\n"
     ]
    },
    {
     "data": {
      "text/html": [
       "<div>\n",
       "<style scoped>\n",
       "    .dataframe tbody tr th:only-of-type {\n",
       "        vertical-align: middle;\n",
       "    }\n",
       "\n",
       "    .dataframe tbody tr th {\n",
       "        vertical-align: top;\n",
       "    }\n",
       "\n",
       "    .dataframe thead th {\n",
       "        text-align: right;\n",
       "    }\n",
       "</style>\n",
       "<table border=\"1\" class=\"dataframe\">\n",
       "  <thead>\n",
       "    <tr style=\"text-align: right;\">\n",
       "      <th></th>\n",
       "      <th>respuesta_id</th>\n",
       "      <th>pregunta_id</th>\n",
       "      <th>pregunta</th>\n",
       "      <th>respuesta</th>\n",
       "      <th>tipo_preg</th>\n",
       "      <th>C1</th>\n",
       "      <th>C1_iid</th>\n",
       "    </tr>\n",
       "  </thead>\n",
       "  <tbody>\n",
       "    <tr>\n",
       "      <th>0</th>\n",
       "      <td>127991</td>\n",
       "      <td>6976</td>\n",
       "      <td>Redacta un problema de ADICIÓN. El problema de...</td>\n",
       "      <td>amaru tine 15 autos y mi primo me regalo 15 ma...</td>\n",
       "      <td>5</td>\n",
       "      <td>0</td>\n",
       "      <td>0</td>\n",
       "    </tr>\n",
       "    <tr>\n",
       "      <th>1</th>\n",
       "      <td>128001</td>\n",
       "      <td>6976</td>\n",
       "      <td>Redacta un problema de ADICIÓN. El problema de...</td>\n",
       "      <td>Andrea  quiene  100 \\nfloles y su mama reran 2...</td>\n",
       "      <td>5</td>\n",
       "      <td>0</td>\n",
       "      <td>0</td>\n",
       "    </tr>\n",
       "    <tr>\n",
       "      <th>2</th>\n",
       "      <td>127987</td>\n",
       "      <td>6976</td>\n",
       "      <td>Redacta un problema de ADICIÓN. El problema de...</td>\n",
       "      <td>juan tiene 5  autos y su amigo le regalo 4  ¿c...</td>\n",
       "      <td>5</td>\n",
       "      <td>0</td>\n",
       "      <td>0</td>\n",
       "    </tr>\n",
       "    <tr>\n",
       "      <th>3</th>\n",
       "      <td>127979</td>\n",
       "      <td>6976</td>\n",
       "      <td>Redacta un problema de ADICIÓN. El problema de...</td>\n",
       "      <td>un perro85848548\\n</td>\n",
       "      <td>5</td>\n",
       "      <td>1</td>\n",
       "      <td>0</td>\n",
       "    </tr>\n",
       "    <tr>\n",
       "      <th>4</th>\n",
       "      <td>127990</td>\n",
       "      <td>6976</td>\n",
       "      <td>Redacta un problema de ADICIÓN. El problema de...</td>\n",
       "      <td>David tenia trenta chocolate  y su mama le dio...</td>\n",
       "      <td>5</td>\n",
       "      <td>0</td>\n",
       "      <td>0</td>\n",
       "    </tr>\n",
       "    <tr>\n",
       "      <th>...</th>\n",
       "      <td>...</td>\n",
       "      <td>...</td>\n",
       "      <td>...</td>\n",
       "      <td>...</td>\n",
       "      <td>...</td>\n",
       "      <td>...</td>\n",
       "      <td>...</td>\n",
       "    </tr>\n",
       "    <tr>\n",
       "      <th>14452</th>\n",
       "      <td>153230</td>\n",
       "      <td>9351</td>\n",
       "      <td>Tres granjas compiten para ver quién produjo m...</td>\n",
       "      <td>quien produjo mas alimento fue la granja b por...</td>\n",
       "      <td>4</td>\n",
       "      <td>0</td>\n",
       "      <td>0</td>\n",
       "    </tr>\n",
       "    <tr>\n",
       "      <th>14453</th>\n",
       "      <td>153231</td>\n",
       "      <td>9351</td>\n",
       "      <td>Tres granjas compiten para ver quién produjo m...</td>\n",
       "      <td>la granja que produjo mas alimento es la B</td>\n",
       "      <td>4</td>\n",
       "      <td>0</td>\n",
       "      <td>0</td>\n",
       "    </tr>\n",
       "    <tr>\n",
       "      <th>14454</th>\n",
       "      <td>153232</td>\n",
       "      <td>9351</td>\n",
       "      <td>Tres granjas compiten para ver quién produjo m...</td>\n",
       "      <td>la granja que  ai mas alimentos esla  granja b...</td>\n",
       "      <td>4</td>\n",
       "      <td>0</td>\n",
       "      <td>0</td>\n",
       "    </tr>\n",
       "    <tr>\n",
       "      <th>14455</th>\n",
       "      <td>153233</td>\n",
       "      <td>9351</td>\n",
       "      <td>Tres granjas compiten para ver quién produjo m...</td>\n",
       "      <td>lab produjo mas  alimento porque tenia de alim...</td>\n",
       "      <td>4</td>\n",
       "      <td>1</td>\n",
       "      <td>0</td>\n",
       "    </tr>\n",
       "    <tr>\n",
       "      <th>14456</th>\n",
       "      <td>153234</td>\n",
       "      <td>9351</td>\n",
       "      <td>Tres granjas compiten para ver quién produjo m...</td>\n",
       "      <td>LA GRANJA C TINE MAS ALIMENTOS PORQUE TIENE MA...</td>\n",
       "      <td>4</td>\n",
       "      <td>0</td>\n",
       "      <td>0</td>\n",
       "    </tr>\n",
       "  </tbody>\n",
       "</table>\n",
       "<p>14457 rows × 7 columns</p>\n",
       "</div>"
      ],
      "text/plain": [
       "       respuesta_id  pregunta_id  \\\n",
       "0            127991         6976   \n",
       "1            128001         6976   \n",
       "2            127987         6976   \n",
       "3            127979         6976   \n",
       "4            127990         6976   \n",
       "...             ...          ...   \n",
       "14452        153230         9351   \n",
       "14453        153231         9351   \n",
       "14454        153232         9351   \n",
       "14455        153233         9351   \n",
       "14456        153234         9351   \n",
       "\n",
       "                                                pregunta  \\\n",
       "0      Redacta un problema de ADICIÓN. El problema de...   \n",
       "1      Redacta un problema de ADICIÓN. El problema de...   \n",
       "2      Redacta un problema de ADICIÓN. El problema de...   \n",
       "3      Redacta un problema de ADICIÓN. El problema de...   \n",
       "4      Redacta un problema de ADICIÓN. El problema de...   \n",
       "...                                                  ...   \n",
       "14452  Tres granjas compiten para ver quién produjo m...   \n",
       "14453  Tres granjas compiten para ver quién produjo m...   \n",
       "14454  Tres granjas compiten para ver quién produjo m...   \n",
       "14455  Tres granjas compiten para ver quién produjo m...   \n",
       "14456  Tres granjas compiten para ver quién produjo m...   \n",
       "\n",
       "                                               respuesta  tipo_preg  C1  \\\n",
       "0      amaru tine 15 autos y mi primo me regalo 15 ma...          5   0   \n",
       "1      Andrea  quiene  100 \\nfloles y su mama reran 2...          5   0   \n",
       "2      juan tiene 5  autos y su amigo le regalo 4  ¿c...          5   0   \n",
       "3                                     un perro85848548\\n          5   1   \n",
       "4      David tenia trenta chocolate  y su mama le dio...          5   0   \n",
       "...                                                  ...        ...  ..   \n",
       "14452  quien produjo mas alimento fue la granja b por...          4   0   \n",
       "14453         la granja que produjo mas alimento es la B          4   0   \n",
       "14454  la granja que  ai mas alimentos esla  granja b...          4   0   \n",
       "14455  lab produjo mas  alimento porque tenia de alim...          4   1   \n",
       "14456  LA GRANJA C TINE MAS ALIMENTOS PORQUE TIENE MA...          4   0   \n",
       "\n",
       "       C1_iid  \n",
       "0           0  \n",
       "1           0  \n",
       "2           0  \n",
       "3           0  \n",
       "4           0  \n",
       "...       ...  \n",
       "14452       0  \n",
       "14453       0  \n",
       "14454       0  \n",
       "14455       0  \n",
       "14456       0  \n",
       "\n",
       "[14457 rows x 7 columns]"
      ]
     },
     "execution_count": 6,
     "metadata": {},
     "output_type": "execute_result"
    }
   ],
   "source": [
    "%%time\n",
    "file_path = \"D:/github/coherence-prediction/data/df_A2019.xlsx\"\n",
    "df = pd.read_excel(file_path)\n",
    "columns = \"respuesta_id pregunta_id pregunta respuesta tipo_preg C1 C1_iid\".split()\n",
    "df = df[columns]\n",
    "df"
   ]
  },
  {
   "cell_type": "code",
   "execution_count": 9,
   "metadata": {},
   "outputs": [
    {
     "data": {
      "text/plain": [
       "tipo_preg\n",
       "0    0.878587\n",
       "1    0.952037\n",
       "2    0.845179\n",
       "3    0.838463\n",
       "4    0.849817\n",
       "5    0.914414\n",
       "dtype: float64"
      ]
     },
     "execution_count": 9,
     "metadata": {},
     "output_type": "execute_result"
    }
   ],
   "source": [
    "df.groupby(\"tipo_preg\").apply(lambda x: (x.shape[0]-x[\"C1\"].sum())/x.shape[0])"
   ]
  },
  {
   "cell_type": "markdown",
   "id": "c2f35a82",
   "metadata": {},
   "source": [
    "## Split"
   ]
  },
  {
   "cell_type": "markdown",
   "id": "7ad55b58",
   "metadata": {},
   "source": [
    "* 80/20 train/val \n",
    "* stratified by question and question type"
   ]
  },
  {
   "cell_type": "markdown",
   "id": "beea5064",
   "metadata": {},
   "source": [
    "https://numpy.org/doc/stable/reference/random/generated/numpy.random.RandomState.choice.html"
   ]
  },
  {
   "cell_type": "code",
   "execution_count": 287,
   "id": "629a91cd",
   "metadata": {},
   "outputs": [],
   "source": [
    "random_seed = 2022"
   ]
  },
  {
   "cell_type": "code",
   "execution_count": 288,
   "id": "76c5a165",
   "metadata": {},
   "outputs": [
    {
     "data": {
      "text/plain": [
       "0.8"
      ]
     },
     "execution_count": 288,
     "metadata": {},
     "output_type": "execute_result"
    }
   ],
   "source": [
    "ratio_train = 80/100\n",
    "ratio_train"
   ]
  },
  {
   "cell_type": "markdown",
   "id": "50cd173c",
   "metadata": {},
   "source": [
    "### Stratified by question type"
   ]
  },
  {
   "cell_type": "code",
   "execution_count": 289,
   "id": "94023625",
   "metadata": {},
   "outputs": [],
   "source": [
    "Q = df[\"pregunta_id tipo_preg\".split()]\n",
    "Q = Q.drop_duplicates(keep=\"last\")\n",
    "\n",
    "Q_ids = Q[\"pregunta_id\"]\n",
    "Q_labels = Q[\"tipo_preg\"]\n",
    "Q_labels_count = Q_labels.value_counts().to_dict()\n",
    "\n",
    "Q_ids_train = np.array([\n",
    "    np.random.RandomState(random_seed).choice(\n",
    "        Q_ids[Q_labels == Q], int( ratio_train * N ), \n",
    "        replace=False)\n",
    "    for Q, N in Q_labels_count.items()\n",
    "], \n",
    "    dtype=object\n",
    ")\n",
    "\n",
    "Q_ids_train = np.concatenate(Q_ids_train)\n",
    "Q_ids_val = np.array(\n",
    "    list(set(Q_ids).difference(set(Q_ids_train)))\n",
    ")"
   ]
  },
  {
   "cell_type": "code",
   "execution_count": 291,
   "id": "466757b9",
   "metadata": {},
   "outputs": [
    {
     "data": {
      "text/plain": [
       "<AxesSubplot:>"
      ]
     },
     "execution_count": 291,
     "metadata": {},
     "output_type": "execute_result"
    },
    {
     "data": {
      "image/png": "[encoded data removed]",
      "text/plain": [
       "<Figure size 432x288 with 1 Axes>"
      ]
     },
     "metadata": {
      "needs_background": "light"
     },
     "output_type": "display_data"
    }
   ],
   "source": [
    "Q_labels.hist(), \n",
    "Q[Q[\"pregunta_id\"].isin(Q_ids_train)][\"tipo_preg\"].hist()"
   ]
  },
  {
   "cell_type": "code",
   "execution_count": 292,
   "id": "272416c1",
   "metadata": {},
   "outputs": [],
   "source": [
    "A = df[\"pregunta_id respuesta_id tipo_preg C1\".split()]\n",
    "\n",
    "A_q_ids = A[\"pregunta_id\"] \n",
    "A_q_label = A[\"tipo_preg\"]\n",
    "\n",
    "A_ids = {\n",
    "    q: A[\"respuesta_id\"][A_q_label == q]\n",
    "    for q in Q_labels_count.keys()\n",
    "}\n",
    "\n",
    "A_labels = {\n",
    "    q: A[\"C1\"].loc[A_ids[q].index]\n",
    "    for q in Q_labels_count.keys()\n",
    "}\n",
    "\n",
    "A_labels_count = {\n",
    "    q: A_labels[q].value_counts().to_dict()\n",
    "    for q in Q_labels_count.keys()\n",
    "}\n",
    "\n",
    "A_ids_train = {\n",
    "    q: np.array([ \n",
    "        np.random.RandomState(random_seed).choice(A_ids[q][A_labels[q] == C], int( ratio_train * N ),\n",
    "                    replace=False)\n",
    "        for C, N in A_labels_count[q].items()\n",
    "    ], \n",
    "        dtype=object\n",
    "    )\n",
    "    for q in Q_labels_count.keys()\n",
    "}\n",
    "\n",
    "A_ids_train = {\n",
    "    q: np.concatenate(A_ids_train[q])\n",
    "    for q in Q_labels_count.keys()\n",
    "}\n",
    "\n",
    "A_ids_val = {\n",
    "    q: np.array(\n",
    "        list(set(A_ids[q]).difference(set(A_ids_train[q])))\n",
    "    )\n",
    "    for q in Q_labels_count.keys()\n",
    "}"
   ]
  },
  {
   "cell_type": "code",
   "execution_count": 293,
   "id": "7554416b",
   "metadata": {},
   "outputs": [],
   "source": [
    "def plot_train_val(q):\n",
    "    return A_labels[q].hist(), A[A[\"respuesta_id\"].isin(A_ids_train[q])][\"C1\"].hist()"
   ]
  },
  {
   "cell_type": "code",
   "execution_count": 294,
   "id": "04aa24b3",
   "metadata": {},
   "outputs": [
    {
     "data": {
      "text/plain": [
       "(<AxesSubplot:>, <AxesSubplot:>)"
      ]
     },
     "execution_count": 294,
     "metadata": {},
     "output_type": "execute_result"
    },
    {
     "data": {
      "image/png": "[encoded data removed]",
      "text/plain": [
       "<Figure size 432x288 with 1 Axes>"
      ]
     },
     "metadata": {
      "needs_background": "light"
     },
     "output_type": "display_data"
    }
   ],
   "source": [
    "plot_train_val(q=0)"
   ]
  },
  {
   "cell_type": "code",
   "execution_count": 295,
   "id": "061a62ce",
   "metadata": {},
   "outputs": [
    {
     "data": {
      "text/plain": [
       "(<AxesSubplot:>, <AxesSubplot:>)"
      ]
     },
     "execution_count": 295,
     "metadata": {},
     "output_type": "execute_result"
    },
    {
     "data": {
      "image/png": "[encoded data removed]",
      "text/plain": [
       "<Figure size 432x288 with 1 Axes>"
      ]
     },
     "metadata": {
      "needs_background": "light"
     },
     "output_type": "display_data"
    }
   ],
   "source": [
    "plot_train_val(q=1)"
   ]
  },
  {
   "cell_type": "code",
   "execution_count": 296,
   "id": "0e849349",
   "metadata": {},
   "outputs": [
    {
     "data": {
      "text/plain": [
       "(<AxesSubplot:>, <AxesSubplot:>)"
      ]
     },
     "execution_count": 296,
     "metadata": {},
     "output_type": "execute_result"
    },
    {
     "data": {
      "image/png": "[encoded data removed]",
      "text/plain": [
       "<Figure size 432x288 with 1 Axes>"
      ]
     },
     "metadata": {
      "needs_background": "light"
     },
     "output_type": "display_data"
    }
   ],
   "source": [
    "plot_train_val(q=2)"
   ]
  },
  {
   "cell_type": "code",
   "execution_count": 297,
   "id": "da26991c",
   "metadata": {},
   "outputs": [
    {
     "data": {
      "text/plain": [
       "(<AxesSubplot:>, <AxesSubplot:>)"
      ]
     },
     "execution_count": 297,
     "metadata": {},
     "output_type": "execute_result"
    },
    {
     "data": {
      "image/png": "[encoded data removed]",
      "text/plain": [
       "<Figure size 432x288 with 1 Axes>"
      ]
     },
     "metadata": {
      "needs_background": "light"
     },
     "output_type": "display_data"
    }
   ],
   "source": [
    "plot_train_val(q=3)"
   ]
  },
  {
   "cell_type": "code",
   "execution_count": 298,
   "id": "439952d4",
   "metadata": {},
   "outputs": [
    {
     "data": {
      "text/plain": [
       "(<AxesSubplot:>, <AxesSubplot:>)"
      ]
     },
     "execution_count": 298,
     "metadata": {},
     "output_type": "execute_result"
    },
    {
     "data": {
      "image/png": "[encoded data removed]",
      "text/plain": [
       "<Figure size 432x288 with 1 Axes>"
      ]
     },
     "metadata": {
      "needs_background": "light"
     },
     "output_type": "display_data"
    }
   ],
   "source": [
    "plot_train_val(q=4)"
   ]
  },
  {
   "cell_type": "code",
   "execution_count": 299,
   "id": "3493f7a7",
   "metadata": {},
   "outputs": [
    {
     "data": {
      "text/plain": [
       "(<AxesSubplot:>, <AxesSubplot:>)"
      ]
     },
     "execution_count": 299,
     "metadata": {},
     "output_type": "execute_result"
    },
    {
     "data": {
      "image/png": "[encoded data removed]",
      "text/plain": [
       "<Figure size 432x288 with 1 Axes>"
      ]
     },
     "metadata": {
      "needs_background": "light"
     },
     "output_type": "display_data"
    }
   ],
   "source": [
    "plot_train_val(q=5)"
   ]
  },
  {
   "cell_type": "markdown",
   "id": "936d18ab",
   "metadata": {},
   "source": [
    "## Save split"
   ]
  },
  {
   "cell_type": "code",
   "execution_count": 300,
   "id": "fcfed5b0",
   "metadata": {},
   "outputs": [],
   "source": [
    "pickle.dump(\n",
    "    {\n",
    "        \"train\": Q_ids_train, \n",
    "        \"val\": Q_ids_val\n",
    "    },\n",
    "    open(\"../pickles/Q_ids.pickle\", \"wb\")\n",
    ")"
   ]
  },
  {
   "cell_type": "code",
   "execution_count": 301,
   "id": "1a523eea",
   "metadata": {},
   "outputs": [],
   "source": [
    "pickle.dump(\n",
    "    {\n",
    "        \"train\": A_ids_train, \n",
    "        \"val\": A_ids_val\n",
    "    },\n",
    "    open(\"../pickles/A_ids.pickle\", \"wb\")\n",
    ")"
   ]
  }
 ],
 "metadata": {
  "kernelspec": {
   "display_name": "Python 3",
   "language": "python",
   "name": "python3"
  },
  "language_info": {
   "codemirror_mode": {
    "name": "ipython",
    "version": 3
   },
   "file_extension": ".py",
   "mimetype": "text/x-python",
   "name": "python",
   "nbconvert_exporter": "python",
   "pygments_lexer": "ipython3",
   "version": "3.8.12"
  }
 },
 "nbformat": 4,
 "nbformat_minor": 5
}
