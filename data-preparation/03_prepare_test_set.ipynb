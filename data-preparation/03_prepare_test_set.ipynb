{
 "cells": [
  {
   "cell_type": "markdown",
   "id": "27a1584e",
   "metadata": {},
   "source": [
    "## Libreries"
   ]
  },
  {
   "cell_type": "code",
   "execution_count": 1,
   "id": "a99e4e2f",
   "metadata": {},
   "outputs": [],
   "source": [
    "import pandas as pd\n",
    "import numpy as np"
   ]
  },
  {
   "cell_type": "markdown",
   "id": "cfc14964",
   "metadata": {},
   "source": [
    "## Data"
   ]
  },
  {
   "cell_type": "code",
   "execution_count": 2,
   "id": "403c9bb8",
   "metadata": {},
   "outputs": [],
   "source": [
    "root_files = \"../data/labels/\""
   ]
  },
  {
   "cell_type": "code",
   "execution_count": 3,
   "id": "b0ce63fa",
   "metadata": {},
   "outputs": [
    {
     "data": {
      "text/html": [
       "<div>\n",
       "<style scoped>\n",
       "    .dataframe tbody tr th:only-of-type {\n",
       "        vertical-align: middle;\n",
       "    }\n",
       "\n",
       "    .dataframe tbody tr th {\n",
       "        vertical-align: top;\n",
       "    }\n",
       "\n",
       "    .dataframe thead th {\n",
       "        text-align: right;\n",
       "    }\n",
       "</style>\n",
       "<table border=\"1\" class=\"dataframe\">\n",
       "  <thead>\n",
       "    <tr style=\"text-align: right;\">\n",
       "      <th></th>\n",
       "      <th>pregunta_id</th>\n",
       "      <th>respuesta_id</th>\n",
       "      <th>pregunta</th>\n",
       "      <th>respuesta</th>\n",
       "    </tr>\n",
       "  </thead>\n",
       "  <tbody>\n",
       "    <tr>\n",
       "      <th>10752</th>\n",
       "      <td>3653</td>\n",
       "      <td>67161</td>\n",
       "      <td>Un libro tiene 132 páginas y en cada una hay 2...</td>\n",
       "      <td>Esta mal porque 132+263=593</td>\n",
       "    </tr>\n",
       "    <tr>\n",
       "      <th>22502</th>\n",
       "      <td>4581</td>\n",
       "      <td>85815</td>\n",
       "      <td>¿Qué aprendiste de la actividad  del viernes?</td>\n",
       "      <td>ha ver las cajas porque las cajas chicas eran ...</td>\n",
       "    </tr>\n",
       "    <tr>\n",
       "      <th>21926</th>\n",
       "      <td>4548</td>\n",
       "      <td>85184</td>\n",
       "      <td>Sí Antonia tiene 15 caramelos en su casa, pasa...</td>\n",
       "      <td>Antonia tiene 10 caramelos llo lo resolbi \\nAN...</td>\n",
       "    </tr>\n",
       "    <tr>\n",
       "      <th>16296</th>\n",
       "      <td>4087</td>\n",
       "      <td>76406</td>\n",
       "      <td>La señora Magdalena camina 30 minutos en la ma...</td>\n",
       "      <td>estamal porque es una ora \\ncon20minutos</td>\n",
       "    </tr>\n",
       "    <tr>\n",
       "      <th>3698</th>\n",
       "      <td>3106</td>\n",
       "      <td>54633</td>\n",
       "      <td>Juan tiene 7 años y su hermano Pedro tiene 5 a...</td>\n",
       "      <td>12</td>\n",
       "    </tr>\n",
       "    <tr>\n",
       "      <th>...</th>\n",
       "      <td>...</td>\n",
       "      <td>...</td>\n",
       "      <td>...</td>\n",
       "      <td>...</td>\n",
       "    </tr>\n",
       "    <tr>\n",
       "      <th>2334</th>\n",
       "      <td>2963</td>\n",
       "      <td>52065</td>\n",
       "      <td>Joaquin reparte láminas a sus amigos. Le entre...</td>\n",
       "      <td>se queda con 12</td>\n",
       "    </tr>\n",
       "    <tr>\n",
       "      <th>8753</th>\n",
       "      <td>3487</td>\n",
       "      <td>63800</td>\n",
       "      <td>María repartió, en partes iguales, 12 dulces e...</td>\n",
       "      <td>48</td>\n",
       "    </tr>\n",
       "    <tr>\n",
       "      <th>27460</th>\n",
       "      <td>5093</td>\n",
       "      <td>95242</td>\n",
       "      <td>Durante la sesión de conecta ideas María Jesús...</td>\n",
       "      <td>es correcto, porque yo lo \\nmultiplique por 4...</td>\n",
       "    </tr>\n",
       "    <tr>\n",
       "      <th>21270</th>\n",
       "      <td>4495</td>\n",
       "      <td>84226</td>\n",
       "      <td>Amanda compró 2 chocolates a $135 cada uno y u...</td>\n",
       "      <td>no esta mal por que pago con mil pesos</td>\n",
       "    </tr>\n",
       "    <tr>\n",
       "      <th>7380</th>\n",
       "      <td>3436</td>\n",
       "      <td>61196</td>\n",
       "      <td>Para comprar el regalo de su padre, Juan ha pu...</td>\n",
       "      <td>¿Cuanto dinero tienen en total?</td>\n",
       "    </tr>\n",
       "  </tbody>\n",
       "</table>\n",
       "<p>3000 rows × 4 columns</p>\n",
       "</div>"
      ],
      "text/plain": [
       "       pregunta_id  respuesta_id  \\\n",
       "10752         3653         67161   \n",
       "22502         4581         85815   \n",
       "21926         4548         85184   \n",
       "16296         4087         76406   \n",
       "3698          3106         54633   \n",
       "...            ...           ...   \n",
       "2334          2963         52065   \n",
       "8753          3487         63800   \n",
       "27460         5093         95242   \n",
       "21270         4495         84226   \n",
       "7380          3436         61196   \n",
       "\n",
       "                                                pregunta  \\\n",
       "10752  Un libro tiene 132 páginas y en cada una hay 2...   \n",
       "22502      ¿Qué aprendiste de la actividad  del viernes?   \n",
       "21926  Sí Antonia tiene 15 caramelos en su casa, pasa...   \n",
       "16296  La señora Magdalena camina 30 minutos en la ma...   \n",
       "3698   Juan tiene 7 años y su hermano Pedro tiene 5 a...   \n",
       "...                                                  ...   \n",
       "2334   Joaquin reparte láminas a sus amigos. Le entre...   \n",
       "8753   María repartió, en partes iguales, 12 dulces e...   \n",
       "27460  Durante la sesión de conecta ideas María Jesús...   \n",
       "21270  Amanda compró 2 chocolates a $135 cada uno y u...   \n",
       "7380   Para comprar el regalo de su padre, Juan ha pu...   \n",
       "\n",
       "                                               respuesta  \n",
       "10752                        Esta mal porque 132+263=593  \n",
       "22502  ha ver las cajas porque las cajas chicas eran ...  \n",
       "21926  Antonia tiene 10 caramelos llo lo resolbi \\nAN...  \n",
       "16296           estamal porque es una ora \\ncon20minutos  \n",
       "3698                                                 12   \n",
       "...                                                  ...  \n",
       "2334                                     se queda con 12  \n",
       "8753                                                  48  \n",
       "27460   es correcto, porque yo lo \\nmultiplique por 4...  \n",
       "21270            no esta mal por que pago con mil pesos   \n",
       "7380                    ¿Cuanto dinero tienen en total?   \n",
       "\n",
       "[3000 rows x 4 columns]"
      ]
     },
     "execution_count": 3,
     "metadata": {},
     "output_type": "execute_result"
    }
   ],
   "source": [
    "sample_2017 = pd.read_excel(\"../data/sample_2017.xlsx\", sheet_name=-1, index_col=0)\n",
    "sample_2017"
   ]
  },
  {
   "cell_type": "code",
   "execution_count": 4,
   "id": "349fafb4",
   "metadata": {},
   "outputs": [],
   "source": [
    "names_of_labelers = [\"Ignacia\", \"Diana\", \"Jessica\", \"Francisco\", \"Jorge\", \"Karla\", \"Natalie\", ]\n",
    "checks = \"Check (Tipo de pregunta)  Check (¿Es incoherente?)  Check (¿Independiente?)\".split(\"  \")"
   ]
  },
  {
   "cell_type": "code",
   "execution_count": 5,
   "id": "b3a0408b",
   "metadata": {},
   "outputs": [
    {
     "name": "stdout",
     "output_type": "stream",
     "text": [
      "Wall time: 8.08 s\n"
     ]
    }
   ],
   "source": [
    "%%time\n",
    "dic_labelers = {}\n",
    "for name in names_of_labelers:\n",
    "    df_label = pd.read_excel(root_files+name+\".xlsx\", sheet_name=-1)\n",
    "    df_label = df_label[(df_label[checks[0]] == \"Listo!\") & (df_label[checks[1]] == \"Listo!\") & (df_label[checks[2]] == \"Listo!\")]\n",
    "    df_label = df_label[\"respuesta_id  pregunta_id  Tipo de pregunta  ¿Es incoherente?  ¿Independiente?\".split(\"  \")]\n",
    "    df_label = df_label.fillna(0)\n",
    "    dic_labelers[name] = df_label.set_index(\"respuesta_id\")"
   ]
  },
  {
   "cell_type": "code",
   "execution_count": 144,
   "metadata": {},
   "outputs": [
    {
     "name": "stdout",
     "output_type": "stream",
     "text": [
      "\\begin{tabular}{rrrrrrr}\n",
      "\\toprule\n",
      "     0 &      1 &      2 &     3 &     4 &     5 &      6 \\\\\n",
      "\\midrule\n",
      "1084.0 & 2995.0 & 2220.0 & 451.0 & 100.0 & 737.0 & 2859.0 \\\\\n",
      "  23.4 &   28.0 &   25.6 &  25.1 &  68.0 &  24.3 &   33.8 \\\\\n",
      "\\bottomrule\n",
      "\\end{tabular}\n",
      "\n"
     ]
    },
    {
     "name": "stderr",
     "output_type": "stream",
     "text": [
      "<ipython-input-144-74163a7825a6>:8: FutureWarning: In future versions `DataFrame.to_latex` is expected to utilise the base implementation of `Styler.to_latex` for formatting and rendering. The arguments signature may therefore change. It is recommended instead to use `DataFrame.style.to_latex` which also contains additional functionality.\n",
      "  print(pd.DataFrame(table_0).set_index(\"labeler\").T.to_latex(index=False))\n"
     ]
    }
   ],
   "source": [
    "table_0 = []\n",
    "for ix, (k, v) in enumerate(dic_labelers.items()):\n",
    "    x = v[\"¿Es incoherente?\"].value_counts()\n",
    "    num = v.shape[0]\n",
    "    prop = np.round(100*x[1]/(x[0]+x[1]), 1)\n",
    "#     print(\"labeler:\",  ix, \"\\b, number of labels:\", num, \"\\b, prop_C1:\", prop)\n",
    "    table_0.append({\"labeler\": ix, \"num of labels\": num, \"prop C1\": prop})\n",
    "print(pd.DataFrame(table_0).set_index(\"labeler\").T.to_latex(index=False))"
   ]
  },
  {
   "cell_type": "code",
   "execution_count": 6,
   "id": "6e30c733",
   "metadata": {},
   "outputs": [],
   "source": [
    "agg_17 = dic_labelers[names_of_labelers[0]].reset_index()[\"respuesta_id  ¿Es incoherente?\".split(\"  \")].rename(columns={'¿Es incoherente?': names_of_labelers[0]})\n",
    "for name in names_of_labelers[1:]:\n",
    "    df = dic_labelers[name].reset_index()\n",
    "    df = df[\"respuesta_id  ¿Es incoherente?\".split(\"  \")]\n",
    "    df = df.rename(columns={'¿Es incoherente?': name})\n",
    "    agg_17 = agg_17.merge(df, on=\"respuesta_id\", how=\"outer\")\n",
    "agg_17 = agg_17.set_index(\"respuesta_id\")"
   ]
  },
  {
   "cell_type": "code",
   "execution_count": 55,
   "id": "a2b15cd2",
   "metadata": {},
   "outputs": [
    {
     "data": {
      "text/html": [
       "<div>\n",
       "<style scoped>\n",
       "    .dataframe tbody tr th:only-of-type {\n",
       "        vertical-align: middle;\n",
       "    }\n",
       "\n",
       "    .dataframe tbody tr th {\n",
       "        vertical-align: top;\n",
       "    }\n",
       "\n",
       "    .dataframe thead th {\n",
       "        text-align: right;\n",
       "    }\n",
       "</style>\n",
       "<table border=\"1\" class=\"dataframe\">\n",
       "  <thead>\n",
       "    <tr style=\"text-align: right;\">\n",
       "      <th></th>\n",
       "      <th>Q_id</th>\n",
       "      <th>Q</th>\n",
       "      <th>A</th>\n",
       "      <th>label</th>\n",
       "    </tr>\n",
       "    <tr>\n",
       "      <th>id</th>\n",
       "      <th></th>\n",
       "      <th></th>\n",
       "      <th></th>\n",
       "      <th></th>\n",
       "    </tr>\n",
       "  </thead>\n",
       "  <tbody>\n",
       "    <tr>\n",
       "      <th>85815</th>\n",
       "      <td>4581</td>\n",
       "      <td>¿Qué aprendiste de la actividad  del viernes?</td>\n",
       "      <td>ha ver las cajas porque las cajas chicas eran ...</td>\n",
       "      <td>0.0</td>\n",
       "    </tr>\n",
       "    <tr>\n",
       "      <th>64812</th>\n",
       "      <td>3535</td>\n",
       "      <td>¿Cómo creen ustedes que se reproducen las célu...</td>\n",
       "      <td>El proceso de división de una célula en dos cé...</td>\n",
       "      <td>0.0</td>\n",
       "    </tr>\n",
       "    <tr>\n",
       "      <th>84148</th>\n",
       "      <td>4491</td>\n",
       "      <td>¿ Qué frase para mejorar le darías tú a un am...</td>\n",
       "      <td>debes practicar los ejerccios</td>\n",
       "      <td>0.0</td>\n",
       "    </tr>\n",
       "    <tr>\n",
       "      <th>88565</th>\n",
       "      <td>4734</td>\n",
       "      <td>¿Qué aprendiste en la actividad del día viernes?</td>\n",
       "      <td>Nose porque no fui. A donde fueron ustedes😛😛😛😛😜</td>\n",
       "      <td>1.0</td>\n",
       "    </tr>\n",
       "    <tr>\n",
       "      <th>51688</th>\n",
       "      <td>2944</td>\n",
       "      <td>Diego compró 2 sopaipillas a $120 cada una. Pa...</td>\n",
       "      <td>las   sopaipillas</td>\n",
       "      <td>1.0</td>\n",
       "    </tr>\n",
       "    <tr>\n",
       "      <th>...</th>\n",
       "      <td>...</td>\n",
       "      <td>...</td>\n",
       "      <td>...</td>\n",
       "      <td>...</td>\n",
       "    </tr>\n",
       "    <tr>\n",
       "      <th>54685</th>\n",
       "      <td>3109</td>\n",
       "      <td>Lorena dice que al multiplicar 3x0 le da como...</td>\n",
       "      <td>estamal poreque es 0</td>\n",
       "      <td>0.0</td>\n",
       "    </tr>\n",
       "    <tr>\n",
       "      <th>87324</th>\n",
       "      <td>4665</td>\n",
       "      <td>Alicia comió 2/9 de un chocolate. Ella dice qu...</td>\n",
       "      <td>esta mal Alicia  por que la cantidad es 7/8 de...</td>\n",
       "      <td>0.0</td>\n",
       "    </tr>\n",
       "    <tr>\n",
       "      <th>73798</th>\n",
       "      <td>3946</td>\n",
       "      <td>El cuarto básico visitará el zoológico. Si son...</td>\n",
       "      <td>nose\\n</td>\n",
       "      <td>1.0</td>\n",
       "    </tr>\n",
       "    <tr>\n",
       "      <th>95242</th>\n",
       "      <td>5093</td>\n",
       "      <td>Durante la sesión de conecta ideas María Jesús...</td>\n",
       "      <td>es correcto, porque yo lo \\nmultiplique por 4...</td>\n",
       "      <td>0.0</td>\n",
       "    </tr>\n",
       "    <tr>\n",
       "      <th>84226</th>\n",
       "      <td>4495</td>\n",
       "      <td>Amanda compró 2 chocolates a $135 cada uno y u...</td>\n",
       "      <td>no esta mal por que pago con mil pesos</td>\n",
       "      <td>0.0</td>\n",
       "    </tr>\n",
       "  </tbody>\n",
       "</table>\n",
       "<p>677 rows × 4 columns</p>\n",
       "</div>"
      ],
      "text/plain": [
       "       Q_id                                                  Q  \\\n",
       "id                                                               \n",
       "85815  4581      ¿Qué aprendiste de la actividad  del viernes?   \n",
       "64812  3535  ¿Cómo creen ustedes que se reproducen las célu...   \n",
       "84148  4491   ¿ Qué frase para mejorar le darías tú a un am...   \n",
       "88565  4734   ¿Qué aprendiste en la actividad del día viernes?   \n",
       "51688  2944  Diego compró 2 sopaipillas a $120 cada una. Pa...   \n",
       "...     ...                                                ...   \n",
       "54685  3109   Lorena dice que al multiplicar 3x0 le da como...   \n",
       "87324  4665  Alicia comió 2/9 de un chocolate. Ella dice qu...   \n",
       "73798  3946  El cuarto básico visitará el zoológico. Si son...   \n",
       "95242  5093  Durante la sesión de conecta ideas María Jesús...   \n",
       "84226  4495  Amanda compró 2 chocolates a $135 cada uno y u...   \n",
       "\n",
       "                                                       A  label  \n",
       "id                                                               \n",
       "85815  ha ver las cajas porque las cajas chicas eran ...    0.0  \n",
       "64812  El proceso de división de una célula en dos cé...    0.0  \n",
       "84148                      debes practicar los ejerccios    0.0  \n",
       "88565    Nose porque no fui. A donde fueron ustedes😛😛😛😛😜    1.0  \n",
       "51688                                  las   sopaipillas    1.0  \n",
       "...                                                  ...    ...  \n",
       "54685                               estamal poreque es 0    0.0  \n",
       "87324  esta mal Alicia  por que la cantidad es 7/8 de...    0.0  \n",
       "73798                                             nose\\n    1.0  \n",
       "95242   es correcto, porque yo lo \\nmultiplique por 4...    0.0  \n",
       "84226            no esta mal por que pago con mil pesos     0.0  \n",
       "\n",
       "[677 rows x 4 columns]"
      ]
     },
     "execution_count": 55,
     "metadata": {},
     "output_type": "execute_result"
    }
   ],
   "source": [
    "group_A = agg_17.drop(columns=[\"Jorge\", \"Karla\", \"Francisco\"])\n",
    "subgroup_A = group_A.dropna()\n",
    "subgroup_A_p = subgroup_A[subgroup_A.nunique(axis=1) == 1]\n",
    "A_test = sample_2017.set_index(\"respuesta_id\").copy()\n",
    "A_test[\"label\"] = subgroup_A_p.mean(axis=1)\n",
    "A_test = A_test.dropna()\n",
    "A_test = A_test.reset_index()\n",
    "A_test = A_test.rename(columns={\n",
    "    \"respuesta_id\": \"id\",\n",
    "    \"pregunta_id\": \"Q_id\",\n",
    "    \"pregunta\": \"Q\", \n",
    "    \"respuesta\": \"A\"\n",
    "})\n",
    "A_test = A_test.set_index(\"id\")\n",
    "A_test"
   ]
  },
  {
   "cell_type": "code",
   "execution_count": 147,
   "metadata": {},
   "outputs": [
    {
     "data": {
      "text/plain": [
       "1078"
      ]
     },
     "execution_count": 147,
     "metadata": {},
     "output_type": "execute_result"
    }
   ],
   "source": [
    "group_A.dropna().shape[0]"
   ]
  },
  {
   "cell_type": "code",
   "execution_count": 97,
   "metadata": {
    "scrolled": true
   },
   "outputs": [
    {
     "data": {
      "text/plain": [
       "0.0    541\n",
       "1.0    136\n",
       "Name: label, dtype: int64"
      ]
     },
     "execution_count": 97,
     "metadata": {},
     "output_type": "execute_result"
    }
   ],
   "source": [
    "A_test[\"label\"].value_counts()"
   ]
  },
  {
   "cell_type": "code",
   "execution_count": 104,
   "metadata": {},
   "outputs": [
    {
     "data": {
      "text/plain": [
       "0.20088626292466766"
      ]
     },
     "execution_count": 104,
     "metadata": {},
     "output_type": "execute_result"
    }
   ],
   "source": [
    "136/(136+541)"
   ]
  },
  {
   "cell_type": "code",
   "execution_count": 148,
   "metadata": {},
   "outputs": [
    {
     "data": {
      "text/plain": [
       "True     677\n",
       "False    401\n",
       "dtype: int64"
      ]
     },
     "execution_count": 148,
     "metadata": {},
     "output_type": "execute_result"
    }
   ],
   "source": [
    "s = group_A.dropna().sum(axis=1)\n",
    "((s == 0) | (s == 4)).value_counts()"
   ]
  },
  {
   "cell_type": "code",
   "execution_count": 99,
   "metadata": {},
   "outputs": [
    {
     "data": {
      "text/plain": [
       "0.6280148423005566"
      ]
     },
     "execution_count": 99,
     "metadata": {},
     "output_type": "execute_result"
    }
   ],
   "source": [
    "677/(677+401)"
   ]
  },
  {
   "cell_type": "code",
   "execution_count": 150,
   "metadata": {
    "scrolled": true
   },
   "outputs": [
    {
     "data": {
      "text/plain": [
       "False    541\n",
       "True     537\n",
       "dtype: int64"
      ]
     },
     "execution_count": 150,
     "metadata": {},
     "output_type": "execute_result"
    }
   ],
   "source": [
    "(s>=1).value_counts()"
   ]
  },
  {
   "cell_type": "code",
   "execution_count": 151,
   "metadata": {},
   "outputs": [
    {
     "data": {
      "text/plain": [
       "0.49814471243042674"
      ]
     },
     "execution_count": 151,
     "metadata": {},
     "output_type": "execute_result"
    }
   ],
   "source": [
    "537/(541+537)"
   ]
  },
  {
   "cell_type": "code",
   "execution_count": 96,
   "metadata": {},
   "outputs": [
    {
     "name": "stdout",
     "output_type": "stream",
     "text": [
      "1\n",
      "False    401\n",
      "True     136\n",
      "dtype: int64\n",
      "2\n",
      "False    175\n",
      "True     136\n",
      "dtype: int64\n",
      "3\n",
      "True     136\n",
      "False     78\n",
      "dtype: int64\n"
     ]
    }
   ],
   "source": [
    "for i in range(1, 4):\n",
    "    print(i, (s[s>=i] == 4).value_counts(), sep=\"\\n\")"
   ]
  },
  {
   "cell_type": "code",
   "execution_count": 103,
   "metadata": {},
   "outputs": [
    {
     "data": {
      "text/plain": [
       "(0.2532588454376164, 0.43729903536977494, 0.6355140186915887)"
      ]
     },
     "execution_count": 103,
     "metadata": {},
     "output_type": "execute_result"
    }
   ],
   "source": [
    "136/(136+401), 136/(175+136), 136/(78+136)"
   ]
  },
  {
   "cell_type": "code",
   "execution_count": null,
   "metadata": {},
   "outputs": [],
   "source": []
  },
  {
   "cell_type": "code",
   "execution_count": 8,
   "id": "9c02e020",
   "metadata": {},
   "outputs": [],
   "source": [
    "agg_17_Q = dic_labelers[names_of_labelers[0]].reset_index()[\"pregunta_id  respuesta_id  Tipo de pregunta\".split(\"  \")].rename(columns={'Tipo de pregunta': names_of_labelers[0]})\n",
    "for name in names_of_labelers[1:]:\n",
    "    df = dic_labelers[name].reset_index()[\"respuesta_id  Tipo de pregunta\".split(\"  \")].rename(columns={'Tipo de pregunta': name})\n",
    "    agg_17_Q = agg_17_Q.merge(df, on=\"respuesta_id\", how=\"outer\")\n",
    "agg_17_Q = agg_17_Q.set_index(\"respuesta_id\")"
   ]
  },
  {
   "cell_type": "code",
   "execution_count": 9,
   "id": "717fcee2",
   "metadata": {},
   "outputs": [
    {
     "data": {
      "text/html": [
       "<div>\n",
       "<style scoped>\n",
       "    .dataframe tbody tr th:only-of-type {\n",
       "        vertical-align: middle;\n",
       "    }\n",
       "\n",
       "    .dataframe tbody tr th {\n",
       "        vertical-align: top;\n",
       "    }\n",
       "\n",
       "    .dataframe thead th {\n",
       "        text-align: right;\n",
       "    }\n",
       "</style>\n",
       "<table border=\"1\" class=\"dataframe\">\n",
       "  <thead>\n",
       "    <tr style=\"text-align: right;\">\n",
       "      <th></th>\n",
       "      <th>Q</th>\n",
       "      <th>label</th>\n",
       "    </tr>\n",
       "    <tr>\n",
       "      <th>id</th>\n",
       "      <th></th>\n",
       "      <th></th>\n",
       "    </tr>\n",
       "  </thead>\n",
       "  <tbody>\n",
       "    <tr>\n",
       "      <th>4900</th>\n",
       "      <td>Alejandra tiene una caja de 4x3x2 cm llena de ...</td>\n",
       "      <td>2.0</td>\n",
       "    </tr>\n",
       "    <tr>\n",
       "      <th>4436</th>\n",
       "      <td>¿Qué te dijo el monito y qué te parece?</td>\n",
       "      <td>0.0</td>\n",
       "    </tr>\n",
       "    <tr>\n",
       "      <th>3535</th>\n",
       "      <td>¿Cómo creen ustedes que se reproducen las célu...</td>\n",
       "      <td>5.0</td>\n",
       "    </tr>\n",
       "    <tr>\n",
       "      <th>4555</th>\n",
       "      <td>Amalia compró 1,75 cm de elástico y Antonieta ...</td>\n",
       "      <td>3.0</td>\n",
       "    </tr>\n",
       "    <tr>\n",
       "      <th>3742</th>\n",
       "      <td>Don Antonio compró 3 cajas de cereales a $ 673...</td>\n",
       "      <td>3.0</td>\n",
       "    </tr>\n",
       "    <tr>\n",
       "      <th>...</th>\n",
       "      <td>...</td>\n",
       "      <td>...</td>\n",
       "    </tr>\n",
       "    <tr>\n",
       "      <th>4445</th>\n",
       "      <td>¿Qué te dijo el monito y qué te parece?</td>\n",
       "      <td>0.0</td>\n",
       "    </tr>\n",
       "    <tr>\n",
       "      <th>4689</th>\n",
       "      <td>La profesora pregunta a sus alumnos: ¿la figu...</td>\n",
       "      <td>3.0</td>\n",
       "    </tr>\n",
       "    <tr>\n",
       "      <th>4663</th>\n",
       "      <td>Antonella compró 23 dulces para su curso. Rega...</td>\n",
       "      <td>3.0</td>\n",
       "    </tr>\n",
       "    <tr>\n",
       "      <th>4665</th>\n",
       "      <td>Alicia comió 2/9 de un chocolate. Ella dice qu...</td>\n",
       "      <td>3.0</td>\n",
       "    </tr>\n",
       "    <tr>\n",
       "      <th>4495</th>\n",
       "      <td>Amanda compró 2 chocolates a $135 cada uno y u...</td>\n",
       "      <td>3.0</td>\n",
       "    </tr>\n",
       "  </tbody>\n",
       "</table>\n",
       "<p>272 rows × 2 columns</p>\n",
       "</div>"
      ],
      "text/plain": [
       "                                                      Q  label\n",
       "id                                                            \n",
       "4900  Alejandra tiene una caja de 4x3x2 cm llena de ...    2.0\n",
       "4436            ¿Qué te dijo el monito y qué te parece?    0.0\n",
       "3535  ¿Cómo creen ustedes que se reproducen las célu...    5.0\n",
       "4555  Amalia compró 1,75 cm de elástico y Antonieta ...    3.0\n",
       "3742  Don Antonio compró 3 cajas de cereales a $ 673...    3.0\n",
       "...                                                 ...    ...\n",
       "4445            ¿Qué te dijo el monito y qué te parece?    0.0\n",
       "4689   La profesora pregunta a sus alumnos: ¿la figu...    3.0\n",
       "4663  Antonella compró 23 dulces para su curso. Rega...    3.0\n",
       "4665  Alicia comió 2/9 de un chocolate. Ella dice qu...    3.0\n",
       "4495  Amanda compró 2 chocolates a $135 cada uno y u...    3.0\n",
       "\n",
       "[272 rows x 2 columns]"
      ]
     },
     "execution_count": 9,
     "metadata": {},
     "output_type": "execute_result"
    }
   ],
   "source": [
    "group_A_Q = agg_17_Q.drop(columns=[\"Jorge\", \"Karla\", \"Francisco\"])\n",
    "subgroup_A_Q = group_A_Q.dropna()\n",
    "subgroup_A_Q_p = subgroup_A_Q[subgroup_A_Q.drop(columns=\"pregunta_id\").nunique(axis=1) == 1]\n",
    "Q_test = sample_2017.set_index(\"respuesta_id\").copy()\n",
    "Q_test[\"label\"] = subgroup_A_Q_p.drop(columns=\"pregunta_id\").mean(axis=1)\n",
    "Q_test = Q_test.dropna()\n",
    "Q_test = Q_test.reset_index()\n",
    "Q_test = Q_test.loc[Q_test[\"pregunta_id\"].drop_duplicates().index]\n",
    "Q_test = Q_test.drop(columns=\"respuesta_id  respuesta\".split(\"  \"))\n",
    "Q_test = Q_test.rename(columns={\n",
    "    \"pregunta_id\": \"id\", \n",
    "    \"pregunta\": \"Q\"\n",
    "})\n",
    "Q_test = Q_test.set_index(\"id\")\n",
    "Q_test"
   ]
  },
  {
   "cell_type": "markdown",
   "id": "2e9574cb",
   "metadata": {},
   "source": [
    "## Save dataframes"
   ]
  },
  {
   "cell_type": "code",
   "execution_count": 93,
   "id": "4233e7fa",
   "metadata": {},
   "outputs": [],
   "source": [
    "Q_test.to_excel(\"../data/test_task_Q.xlsx\")\n",
    "A_test.to_excel(\"../data/test_task_C1.xlsx\")"
   ]
  }
 ],
 "metadata": {
  "kernelspec": {
   "display_name": "Python 3",
   "language": "python",
   "name": "python3"
  },
  "language_info": {
   "codemirror_mode": {
    "name": "ipython",
    "version": 3
   },
   "file_extension": ".py",
   "mimetype": "text/x-python",
   "name": "python",
   "nbconvert_exporter": "python",
   "pygments_lexer": "ipython3",
   "version": "3.8.12"
  }
 },
 "nbformat": 4,
 "nbformat_minor": 5
}
