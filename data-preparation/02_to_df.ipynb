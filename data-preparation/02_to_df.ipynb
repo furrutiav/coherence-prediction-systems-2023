{
 "cells": [
  {
   "cell_type": "markdown",
   "id": "e9115a81",
   "metadata": {},
   "source": [
    "## Libreries"
   ]
  },
  {
   "cell_type": "code",
<<<<<<< Updated upstream
   "execution_count": 2,
=======
   "execution_count": 64,
>>>>>>> Stashed changes
   "id": "bdb5adb7",
   "metadata": {},
   "outputs": [],
   "source": [
    "import pandas as pd\n",
    "import numpy as np\n",
    "import pickle"
   ]
  },
  {
   "cell_type": "markdown",
   "id": "433e74e3",
   "metadata": {},
   "source": [
    "## Data"
   ]
  },
  {
   "cell_type": "code",
<<<<<<< Updated upstream
   "execution_count": 3,
=======
   "execution_count": 65,
>>>>>>> Stashed changes
   "id": "35d7dfec",
   "metadata": {},
   "outputs": [
    {
     "name": "stdout",
     "output_type": "stream",
     "text": [
      "Wall time: 1.26 s\n"
     ]
    },
    {
     "data": {
      "text/html": [
       "<div>\n",
       "<style scoped>\n",
       "    .dataframe tbody tr th:only-of-type {\n",
       "        vertical-align: middle;\n",
       "    }\n",
       "\n",
       "    .dataframe tbody tr th {\n",
       "        vertical-align: top;\n",
       "    }\n",
       "\n",
       "    .dataframe thead th {\n",
       "        text-align: right;\n",
       "    }\n",
       "</style>\n",
       "<table border=\"1\" class=\"dataframe\">\n",
       "  <thead>\n",
       "    <tr style=\"text-align: right;\">\n",
       "      <th></th>\n",
       "      <th>respuesta_id</th>\n",
       "      <th>pregunta_id</th>\n",
       "      <th>pregunta</th>\n",
       "      <th>respuesta</th>\n",
       "      <th>tipo_preg</th>\n",
       "      <th>C1</th>\n",
       "      <th>C1_iid</th>\n",
       "    </tr>\n",
       "  </thead>\n",
       "  <tbody>\n",
       "    <tr>\n",
       "      <th>0</th>\n",
       "      <td>127991</td>\n",
       "      <td>6976</td>\n",
       "      <td>Redacta un problema de ADICIÓN. El problema de...</td>\n",
       "      <td>amaru tine 15 autos y mi primo me regalo 15 ma...</td>\n",
       "      <td>5</td>\n",
       "      <td>0</td>\n",
       "      <td>0</td>\n",
       "    </tr>\n",
       "    <tr>\n",
       "      <th>1</th>\n",
       "      <td>128001</td>\n",
       "      <td>6976</td>\n",
       "      <td>Redacta un problema de ADICIÓN. El problema de...</td>\n",
       "      <td>Andrea  quiene  100 \\nfloles y su mama reran 2...</td>\n",
       "      <td>5</td>\n",
       "      <td>0</td>\n",
       "      <td>0</td>\n",
       "    </tr>\n",
       "    <tr>\n",
       "      <th>2</th>\n",
       "      <td>127987</td>\n",
       "      <td>6976</td>\n",
       "      <td>Redacta un problema de ADICIÓN. El problema de...</td>\n",
       "      <td>juan tiene 5  autos y su amigo le regalo 4  ¿c...</td>\n",
       "      <td>5</td>\n",
       "      <td>0</td>\n",
       "      <td>0</td>\n",
       "    </tr>\n",
       "    <tr>\n",
       "      <th>3</th>\n",
       "      <td>127979</td>\n",
       "      <td>6976</td>\n",
       "      <td>Redacta un problema de ADICIÓN. El problema de...</td>\n",
       "      <td>un perro85848548\\n</td>\n",
       "      <td>5</td>\n",
       "      <td>1</td>\n",
       "      <td>0</td>\n",
       "    </tr>\n",
       "    <tr>\n",
       "      <th>4</th>\n",
       "      <td>127990</td>\n",
       "      <td>6976</td>\n",
       "      <td>Redacta un problema de ADICIÓN. El problema de...</td>\n",
       "      <td>David tenia trenta chocolate  y su mama le dio...</td>\n",
       "      <td>5</td>\n",
       "      <td>0</td>\n",
       "      <td>0</td>\n",
       "    </tr>\n",
       "    <tr>\n",
       "      <th>...</th>\n",
       "      <td>...</td>\n",
       "      <td>...</td>\n",
       "      <td>...</td>\n",
       "      <td>...</td>\n",
       "      <td>...</td>\n",
       "      <td>...</td>\n",
       "      <td>...</td>\n",
       "    </tr>\n",
       "    <tr>\n",
       "      <th>14452</th>\n",
       "      <td>153230</td>\n",
       "      <td>9348</td>\n",
       "      <td>Tres granjas compiten para ver quién produjo m...</td>\n",
       "      <td>quien produjo mas alimento fue la granja b por...</td>\n",
       "      <td>4</td>\n",
       "      <td>0</td>\n",
       "      <td>0</td>\n",
       "    </tr>\n",
       "    <tr>\n",
       "      <th>14453</th>\n",
       "      <td>153231</td>\n",
       "      <td>9348</td>\n",
       "      <td>Tres granjas compiten para ver quién produjo m...</td>\n",
       "      <td>la granja que produjo mas alimento es la B</td>\n",
       "      <td>4</td>\n",
       "      <td>0</td>\n",
       "      <td>0</td>\n",
       "    </tr>\n",
       "    <tr>\n",
       "      <th>14454</th>\n",
       "      <td>153232</td>\n",
       "      <td>9348</td>\n",
       "      <td>Tres granjas compiten para ver quién produjo m...</td>\n",
       "      <td>la granja que  ai mas alimentos esla  granja b...</td>\n",
       "      <td>4</td>\n",
       "      <td>0</td>\n",
       "      <td>0</td>\n",
       "    </tr>\n",
       "    <tr>\n",
       "      <th>14455</th>\n",
       "      <td>153233</td>\n",
       "      <td>9348</td>\n",
       "      <td>Tres granjas compiten para ver quién produjo m...</td>\n",
       "      <td>lab produjo mas  alimento porque tenia de alim...</td>\n",
       "      <td>4</td>\n",
       "      <td>1</td>\n",
       "      <td>0</td>\n",
       "    </tr>\n",
       "    <tr>\n",
       "      <th>14456</th>\n",
       "      <td>153234</td>\n",
       "      <td>9348</td>\n",
       "      <td>Tres granjas compiten para ver quién produjo m...</td>\n",
       "      <td>LA GRANJA C TINE MAS ALIMENTOS PORQUE TIENE MA...</td>\n",
       "      <td>4</td>\n",
       "      <td>0</td>\n",
       "      <td>0</td>\n",
       "    </tr>\n",
       "  </tbody>\n",
       "</table>\n",
       "<p>14457 rows × 7 columns</p>\n",
       "</div>"
      ],
      "text/plain": [
       "       respuesta_id  pregunta_id  \\\n",
       "0            127991         6976   \n",
       "1            128001         6976   \n",
       "2            127987         6976   \n",
       "3            127979         6976   \n",
       "4            127990         6976   \n",
       "...             ...          ...   \n",
       "14452        153230         9348   \n",
       "14453        153231         9348   \n",
       "14454        153232         9348   \n",
       "14455        153233         9348   \n",
       "14456        153234         9348   \n",
       "\n",
       "                                                pregunta  \\\n",
       "0      Redacta un problema de ADICIÓN. El problema de...   \n",
       "1      Redacta un problema de ADICIÓN. El problema de...   \n",
       "2      Redacta un problema de ADICIÓN. El problema de...   \n",
       "3      Redacta un problema de ADICIÓN. El problema de...   \n",
       "4      Redacta un problema de ADICIÓN. El problema de...   \n",
       "...                                                  ...   \n",
       "14452  Tres granjas compiten para ver quién produjo m...   \n",
       "14453  Tres granjas compiten para ver quién produjo m...   \n",
       "14454  Tres granjas compiten para ver quién produjo m...   \n",
       "14455  Tres granjas compiten para ver quién produjo m...   \n",
       "14456  Tres granjas compiten para ver quién produjo m...   \n",
       "\n",
       "                                               respuesta  tipo_preg  C1  \\\n",
       "0      amaru tine 15 autos y mi primo me regalo 15 ma...          5   0   \n",
       "1      Andrea  quiene  100 \\nfloles y su mama reran 2...          5   0   \n",
       "2      juan tiene 5  autos y su amigo le regalo 4  ¿c...          5   0   \n",
       "3                                     un perro85848548\\n          5   1   \n",
       "4      David tenia trenta chocolate  y su mama le dio...          5   0   \n",
       "...                                                  ...        ...  ..   \n",
       "14452  quien produjo mas alimento fue la granja b por...          4   0   \n",
       "14453         la granja que produjo mas alimento es la B          4   0   \n",
       "14454  la granja que  ai mas alimentos esla  granja b...          4   0   \n",
       "14455  lab produjo mas  alimento porque tenia de alim...          4   1   \n",
       "14456  LA GRANJA C TINE MAS ALIMENTOS PORQUE TIENE MA...          4   0   \n",
       "\n",
       "       C1_iid  \n",
       "0           0  \n",
       "1           0  \n",
       "2           0  \n",
       "3           0  \n",
       "4           0  \n",
       "...       ...  \n",
       "14452       0  \n",
       "14453       0  \n",
       "14454       0  \n",
       "14455       0  \n",
       "14456       0  \n",
       "\n",
       "[14457 rows x 7 columns]"
      ]
     },
     "execution_count": 65,
     "metadata": {},
     "output_type": "execute_result"
    }
   ],
   "source": [
    "%%time\n",
    "file_path = \"../data/data_2019.xlsx\"\n",
    "df = pd.read_excel(file_path)\n",
    "columns = \"respuesta_id pregunta_id pregunta respuesta tipo_preg C1 C1_iid\".split()\n",
    "df = df[columns]\n",
    "df"
   ]
  },
  {
   "cell_type": "markdown",
   "id": "f5c03e1c",
   "metadata": {},
   "source": [
    "## Pickles"
   ]
  },
  {
   "cell_type": "code",
<<<<<<< Updated upstream
   "execution_count": 23,
=======
   "execution_count": 67,
>>>>>>> Stashed changes
   "id": "2a8df277",
   "metadata": {},
   "outputs": [],
   "source": [
    "Q_ids = pickle.load(\n",
    "    open(\"../pickles/Q_ids.pickle\", \"rb\")\n",
    ")\n",
    "A_ids = pickle.load(\n",
    "    open(\"../pickles/A_ids.pickle\", \"rb\")\n",
    ")"
   ]
  },
  {
   "cell_type": "markdown",
   "id": "91df55a4",
   "metadata": {},
   "source": [
    "## To dataframe"
   ]
  },
  {
   "cell_type": "code",
<<<<<<< Updated upstream
   "execution_count": 13,
=======
   "execution_count": 68,
>>>>>>> Stashed changes
   "id": "4accd042",
   "metadata": {},
   "outputs": [],
   "source": [
    "Q = df[\"pregunta_id pregunta tipo_preg\".split()]\n",
    "Q = Q.drop_duplicates(keep=\"last\")\n",
    "\n",
    "new_cols = {\n",
    "    \"pregunta_id\": \"id\", \n",
    "    \"pregunta\": \"Q\", \n",
    "    \"tipo_preg\": \"label\"\n",
    "}\n",
    "\n",
    "Q = Q.rename(columns=new_cols)\n",
    "Q = Q.set_index(\"id\")\n",
    "\n",
    "Q_train = Q.loc[Q_ids[\"train\"]]\n",
    "Q_val = Q.loc[Q_ids[\"val\"]]"
   ]
  },
  {
   "cell_type": "code",
<<<<<<< Updated upstream
   "execution_count": 31,
=======
   "execution_count": 69,
>>>>>>> Stashed changes
   "id": "ebf17fa4",
   "metadata": {},
   "outputs": [],
   "source": [
    "A = df[\"pregunta_id respuesta_id pregunta respuesta tipo_preg C1 C1_iid\".split()]\n",
    "\n",
    "new_cols = {\n",
    "    \"respuesta_id\": \"id\", \n",
    "    \"pregunta_id\": \"Q_id\", \n",
    "    \"pregunta\": \"Q\", \n",
    "    \"respuesta\": \"A\",\n",
    "    \"tipo_preg\": \"label_Q\",\n",
    "    \"C1\": \"label\",\n",
    "    \"C1_iid\": \"label_C1\"\n",
    "}\n",
    "\n",
    "A = A.rename(columns=new_cols)\n",
    "A = A.set_index(\"id\")\n",
    "\n",
    "A_train = A.loc[np.concatenate(\n",
    "    list(A_ids[\"train\"].values())\n",
    ")]\n",
    "\n",
    "A_val = A.loc[np.concatenate(\n",
    "    list(A_ids[\"val\"].values())\n",
    ")]"
   ]
  },
  {
   "cell_type": "markdown",
   "id": "a6172122",
   "metadata": {},
   "source": [
    "## Save dataframes"
   ]
  },
  {
   "cell_type": "code",
<<<<<<< Updated upstream
   "execution_count": 40,
=======
   "execution_count": 70,
>>>>>>> Stashed changes
   "id": "a5e7e0ba",
   "metadata": {},
   "outputs": [],
   "source": [
    "Q_train.to_excel(\"../data/train_task_Q.xlsx\")\n",
    "Q_val.to_excel(\"../data/val_task_Q.xlsx\")"
   ]
  },
  {
   "cell_type": "code",
<<<<<<< Updated upstream
   "execution_count": 41,
=======
   "execution_count": 71,
>>>>>>> Stashed changes
   "id": "e7f3c97d",
   "metadata": {},
   "outputs": [],
   "source": [
    "A_train.to_excel(\"../data/train_task_C1.xlsx\")\n",
    "A_val.to_excel(\"../data/val_task_C1.xlsx\")"
   ]
  }
 ],
 "metadata": {
  "kernelspec": {
   "display_name": "Python 3 (ipykernel)",
   "language": "python",
   "name": "python3"
  },
  "language_info": {
   "codemirror_mode": {
    "name": "ipython",
    "version": 3
   },
   "file_extension": ".py",
   "mimetype": "text/x-python",
   "name": "python",
   "nbconvert_exporter": "python",
   "pygments_lexer": "ipython3",
   "version": "3.8.5"
  }
 },
 "nbformat": 4,
 "nbformat_minor": 5
}
