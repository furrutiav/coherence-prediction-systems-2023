{
 "cells": [
  {
   "cell_type": "markdown",
   "id": "b87916e1",
   "metadata": {},
   "source": [
    "## Libreries"
   ]
  },
  {
   "cell_type": "code",
   "execution_count": 1,
   "id": "61182d52",
   "metadata": {},
   "outputs": [],
   "source": [
    "import pandas as pd\n",
    "import pickle\n",
    "import numpy as np"
   ]
  },
  {
   "cell_type": "markdown",
   "id": "3d0f16b5",
   "metadata": {},
   "source": [
    "## Data"
   ]
  },
  {
   "cell_type": "code",
   "execution_count": 2,
   "id": "da9ece36",
   "metadata": {},
   "outputs": [],
   "source": [
    "A_train = pd.read_excel(\"../../data/train_task_C1.xlsx\", index_col=\"id\")\n",
    "A_val = pd.read_excel(\"../../data/val_task_C1.xlsx\", index_col=\"id\")\n",
    "A_test = pd.read_excel(\"../../data/test_task_C1.xlsx\", index_col=\"id\")"
   ]
  },
  {
   "cell_type": "code",
   "execution_count": 3,
   "id": "cec0a11a",
   "metadata": {},
   "outputs": [],
   "source": [
    "X_train = A_train[\"Q A\".split()]\n",
    "y_train = A_train[\"label\"]\n",
    "\n",
    "X_test = A_test[\"Q A\".split()]\n",
    "y_test = A_test[\"label\"]\n",
    "\n",
    "X_val = A_val[\"Q A\".split()]\n",
    "y_val = A_val[\"label\"]"
   ]
  },
  {
   "cell_type": "code",
   "execution_count": 4,
   "id": "7107ac34",
   "metadata": {},
   "outputs": [],
   "source": [
    "from sklearn.dummy import DummyClassifier\n",
    "from sklearn.metrics import classification_report"
   ]
  },
  {
   "cell_type": "code",
   "execution_count": 5,
   "id": "e6007644",
   "metadata": {},
   "outputs": [
    {
     "name": "stdout",
     "output_type": "stream",
     "text": [
      "strategy:\n",
      "most_frequent\n",
      "train:\n",
      "                      0       1  accuracy     macro avg  weighted avg\n",
      "precision      0.866770     0.0   0.86677      0.433385      0.751291\n",
      "recall         1.000000     0.0   0.86677      0.500000      0.866770\n",
      "f1-score       0.928631     0.0   0.86677      0.464316      0.804910\n",
      "support    10019.000000  1540.0   0.86677  11559.000000  11559.000000\n",
      "val:\n",
      "                     0      1  accuracy    macro avg  weighted avg\n",
      "precision     0.866115    0.0  0.866115     0.433057      0.750154\n",
      "recall        1.000000    0.0  0.866115     0.500000      0.866115\n",
      "f1-score      0.928254    0.0  0.866115     0.464127      0.803975\n",
      "support    2510.000000  388.0  0.866115  2898.000000   2898.000000\n",
      "test:\n",
      "                    0      1  accuracy   macro avg  weighted avg\n",
      "precision    0.799114    0.0  0.799114    0.399557      0.638583\n",
      "recall       1.000000    0.0  0.799114    0.500000      0.799114\n",
      "f1-score     0.888342    0.0  0.799114    0.444171      0.709886\n",
      "support    541.000000  136.0  0.799114  677.000000    677.000000\n",
      "strategy:\n",
      "stratified\n",
      "train:\n",
      "                      0            1  accuracy     macro avg  weighted avg\n",
      "precision      0.867020     0.134839  0.768838      0.500929      0.769472\n",
      "recall         0.866154     0.135714  0.768838      0.500934      0.768838\n",
      "f1-score       0.866587     0.135275  0.768838      0.500931      0.769154\n",
      "support    10019.000000  1540.000000  0.768838  11559.000000  11559.000000\n",
      "val:\n",
      "                     0           1  accuracy    macro avg  weighted avg\n",
      "precision     0.868833    0.150617  0.768461     0.509725      0.772674\n",
      "recall        0.862948    0.157216  0.768461     0.510082      0.768461\n",
      "f1-score      0.865880    0.153846  0.768461     0.509863      0.770549\n",
      "support    2510.000000  388.000000  0.768461  2898.000000   2898.000000\n",
      "test:\n",
      "                    0           1  accuracy   macro avg  weighted avg\n",
      "precision    0.799325    0.202381  0.725258    0.500853      0.679408\n",
      "recall       0.876155    0.125000  0.725258    0.500578      0.725258\n",
      "f1-score     0.835979    0.154545  0.725258    0.495262      0.699088\n",
      "support    541.000000  136.000000  0.725258  677.000000    677.000000\n",
      "strategy:\n",
      "uniform\n",
      "train:\n",
      "                      0            1  accuracy     macro avg  weighted avg\n",
      "precision      0.863558     0.130029  0.496064      0.496793      0.765830\n",
      "recall         0.497155     0.488961  0.496064      0.493058      0.496064\n",
      "f1-score       0.631026     0.205429  0.496064      0.418227      0.574324\n",
      "support    10019.000000  1540.000000  0.496064  11559.000000  11559.000000\n",
      "val:\n",
      "                     0           1  accuracy    macro avg  weighted avg\n",
      "precision     0.867835    0.135689  0.510352     0.501762      0.769812\n",
      "recall        0.512749    0.494845  0.510352     0.503797      0.510352\n",
      "f1-score      0.644628    0.212978  0.510352     0.428803      0.586836\n",
      "support    2510.000000  388.000000  0.510352  2898.000000   2898.000000\n",
      "test:\n",
      "                    0           1  accuracy   macro avg  weighted avg\n",
      "precision    0.813754    0.216463  0.524372    0.515108      0.693766\n",
      "recall       0.524954    0.522059  0.524372    0.523506      0.524372\n",
      "f1-score     0.638202    0.306034  0.524372    0.472118      0.571474\n",
      "support    541.000000  136.000000  0.524372  677.000000    677.000000\n"
     ]
    }
   ],
   "source": [
    "for strategy in [\"most_frequent\", \"stratified\", \"uniform\"]:\n",
    "    print(\"strategy:\", strategy, sep=\"\\n\")\n",
    "    clf = DummyClassifier(strategy=strategy, random_state=2022)\n",
    "    clf.fit(X_train, y_train)\n",
    "    \n",
    "    y_pred = clf.predict(X_train)\n",
    "    report = classification_report(y_train, y_pred, output_dict=True, zero_division=0)\n",
    "    train_report = pd.DataFrame(report)\n",
    "    print(\"train:\", train_report, sep=\"\\n\")\n",
    "    \n",
    "    y_pred = clf.predict(X_val)\n",
    "    report = classification_report(y_val, y_pred, output_dict=True, zero_division=0)\n",
    "    val_report = pd.DataFrame(report)\n",
    "    print(\"val:\", val_report, sep=\"\\n\")\n",
    "    \n",
    "    y_pred = clf.predict(X_test)\n",
    "    report = classification_report(y_test, y_pred, output_dict=True, zero_division=0)\n",
    "    test_report = pd.DataFrame(report)\n",
    "    print(\"test:\", test_report, sep=\"\\n\")\n",
    "    \n",
    "    # Save pickle\n",
    "    pickle.dump(clf, open(f\"results/clf_dummy_{strategy}.pickle\", \"wb\"))\n",
    "    pickle.dump(train_report, open(f\"results/train_report_dummy_{strategy}.pickle\", \"wb\"))\n",
    "    pickle.dump(val_report, open(f\"results/val_report_dummy_{strategy}.pickle\", \"wb\"))\n",
    "    pickle.dump(test_report, open(f\"results/test_report_dummy_{strategy}.pickle\", \"wb\"))"
   ]
  }
 ],
 "metadata": {
  "kernelspec": {
   "display_name": "Python 3",
   "language": "python",
   "name": "python3"
  },
  "language_info": {
   "codemirror_mode": {
    "name": "ipython",
    "version": 3
   },
   "file_extension": ".py",
   "mimetype": "text/x-python",
   "name": "python",
   "nbconvert_exporter": "python",
   "pygments_lexer": "ipython3",
   "version": "3.8.12"
  }
 },
 "nbformat": 4,
 "nbformat_minor": 5
}
