{
 "cells": [
  {
   "cell_type": "markdown",
   "id": "b87916e1",
   "metadata": {},
   "source": [
    "## Libreries"
   ]
  },
  {
   "cell_type": "code",
   "execution_count": 2,
   "id": "61182d52",
   "metadata": {},
   "outputs": [
    {
     "name": "stderr",
     "output_type": "stream",
     "text": [
      "C:\\Users\\felip\\anaconda3\\lib\\site-packages\\numpy\\_distributor_init.py:30: UserWarning: loaded more than 1 DLL from .libs:\n",
      "C:\\Users\\felip\\anaconda3\\lib\\site-packages\\numpy\\.libs\\libopenblas.EL2C6PLE4ZYW3ECEVIV3OXXGRN2NRFM2.gfortran-win_amd64.dll\n",
      "C:\\Users\\felip\\anaconda3\\lib\\site-packages\\numpy\\.libs\\libopenblas.XWYDX2IKJW2NMTWSFYNGFUWKQU3LYTCZ.gfortran-win_amd64.dll\n",
      "  warnings.warn(\"loaded more than 1 DLL from .libs:\"\n"
     ]
    }
   ],
   "source": [
    "import pandas as pd\n",
    "import pickle\n",
    "import numpy as np"
   ]
  },
  {
   "cell_type": "markdown",
   "id": "3d0f16b5",
   "metadata": {},
   "source": [
    "## Data"
   ]
  },
  {
   "cell_type": "code",
   "execution_count": 3,
   "id": "da9ece36",
   "metadata": {},
   "outputs": [],
   "source": [
    "A_train = pd.read_excel(\"../../data/train_task_C1.xlsx\", index_col=\"id\")\n",
    "A_val = pd.read_excel(\"../../data/val_task_C1.xlsx\", index_col=\"id\")\n",
    "A_test = pd.read_excel(\"../../data/test_task_C1.xlsx\", index_col=\"id\")"
   ]
  },
  {
   "cell_type": "code",
   "execution_count": 4,
   "id": "cec0a11a",
   "metadata": {},
   "outputs": [],
   "source": [
    "X_train = A_train[\"Q A\".split()]\n",
    "y_train = A_train[\"label\"]\n",
    "\n",
    "X_test = A_test[\"Q A\".split()]\n",
    "y_test = A_test[\"label\"]\n",
    "\n",
    "X_val = A_val[\"Q A\".split()]\n",
    "y_val = A_val[\"label\"]"
   ]
  },
  {
   "cell_type": "code",
   "execution_count": 5,
   "id": "fde6dc9c",
   "metadata": {},
   "outputs": [
    {
     "data": {
      "text/html": [
       "<div>\n",
       "<style scoped>\n",
       "    .dataframe tbody tr th:only-of-type {\n",
       "        vertical-align: middle;\n",
       "    }\n",
       "\n",
       "    .dataframe tbody tr th {\n",
       "        vertical-align: top;\n",
       "    }\n",
       "\n",
       "    .dataframe thead th {\n",
       "        text-align: right;\n",
       "    }\n",
       "</style>\n",
       "<table border=\"1\" class=\"dataframe\">\n",
       "  <thead>\n",
       "    <tr style=\"text-align: right;\">\n",
       "      <th></th>\n",
       "      <th>Q</th>\n",
       "      <th>A</th>\n",
       "    </tr>\n",
       "    <tr>\n",
       "      <th>id</th>\n",
       "      <th></th>\n",
       "      <th></th>\n",
       "    </tr>\n",
       "  </thead>\n",
       "  <tbody>\n",
       "    <tr>\n",
       "      <th>137889</th>\n",
       "      <td>Marcelo quiere instalar baldosas en el patio d...</td>\n",
       "      <td>multiplicar 6x9</td>\n",
       "    </tr>\n",
       "    <tr>\n",
       "      <th>145583</th>\n",
       "      <td>Durante 3 días, Carla gastó cada tarde 530 pes...</td>\n",
       "      <td>multiplique 530 x 3 tome el 3 y lo multiplique...</td>\n",
       "    </tr>\n",
       "    <tr>\n",
       "      <th>152799</th>\n",
       "      <td>Andrea tiene 200 pesos. Su abuela le regala un...</td>\n",
       "      <td>sume 200 + 350 y me dio 550 por lo tanto el re...</td>\n",
       "    </tr>\n",
       "    <tr>\n",
       "      <th>130932</th>\n",
       "      <td>Teresa tiene 35 flores para repartirlas entre...</td>\n",
       "      <td>Teresa en cada florero va a poner 7 flores y l...</td>\n",
       "    </tr>\n",
       "    <tr>\n",
       "      <th>134518</th>\n",
       "      <td>Francisca tiene ahorrados $ 15 000 y su mamá l...</td>\n",
       "      <td>X+15 000 IGUAL A 35 000  SU MAMA LE REGALA  20...</td>\n",
       "    </tr>\n",
       "    <tr>\n",
       "      <th>...</th>\n",
       "      <td>...</td>\n",
       "      <td>...</td>\n",
       "    </tr>\n",
       "    <tr>\n",
       "      <th>148157</th>\n",
       "      <td>En una bolsa que tiene 5 bolitas rojas, 1 verd...</td>\n",
       "      <td>512215</td>\n",
       "    </tr>\n",
       "    <tr>\n",
       "      <th>138573</th>\n",
       "      <td>Camilo tiene que juntar 60 balones. Lleva junt...</td>\n",
       "      <td>nose estoy asiendo algo inportante</td>\n",
       "    </tr>\n",
       "    <tr>\n",
       "      <th>132666</th>\n",
       "      <td>Pamela tiene 25 flores y su amiga le regala 17...</td>\n",
       "      <td>david  valdes</td>\n",
       "    </tr>\n",
       "    <tr>\n",
       "      <th>146336</th>\n",
       "      <td>Escribe una historia para que el duende Pepo p...</td>\n",
       "      <td>HABIA UNA VEZ UN DUENDE QUE SE LLAMABA PEPO QU...</td>\n",
       "    </tr>\n",
       "    <tr>\n",
       "      <th>148161</th>\n",
       "      <td>En una bolsa que tiene 5 bolitas rojas, 1 verd...</td>\n",
       "      <td>9</td>\n",
       "    </tr>\n",
       "  </tbody>\n",
       "</table>\n",
       "<p>11559 rows × 2 columns</p>\n",
       "</div>"
      ],
      "text/plain": [
       "                                                        Q  \\\n",
       "id                                                          \n",
       "137889  Marcelo quiere instalar baldosas en el patio d...   \n",
       "145583  Durante 3 días, Carla gastó cada tarde 530 pes...   \n",
       "152799  Andrea tiene 200 pesos. Su abuela le regala un...   \n",
       "130932   Teresa tiene 35 flores para repartirlas entre...   \n",
       "134518  Francisca tiene ahorrados $ 15 000 y su mamá l...   \n",
       "...                                                   ...   \n",
       "148157  En una bolsa que tiene 5 bolitas rojas, 1 verd...   \n",
       "138573  Camilo tiene que juntar 60 balones. Lleva junt...   \n",
       "132666  Pamela tiene 25 flores y su amiga le regala 17...   \n",
       "146336  Escribe una historia para que el duende Pepo p...   \n",
       "148161  En una bolsa que tiene 5 bolitas rojas, 1 verd...   \n",
       "\n",
       "                                                        A  \n",
       "id                                                         \n",
       "137889                                   multiplicar 6x9   \n",
       "145583  multiplique 530 x 3 tome el 3 y lo multiplique...  \n",
       "152799  sume 200 + 350 y me dio 550 por lo tanto el re...  \n",
       "130932  Teresa en cada florero va a poner 7 flores y l...  \n",
       "134518  X+15 000 IGUAL A 35 000  SU MAMA LE REGALA  20...  \n",
       "...                                                   ...  \n",
       "148157                                             512215  \n",
       "138573                 nose estoy asiendo algo inportante  \n",
       "132666                                      david  valdes  \n",
       "146336  HABIA UNA VEZ UN DUENDE QUE SE LLAMABA PEPO QU...  \n",
       "148161                                                  9  \n",
       "\n",
       "[11559 rows x 2 columns]"
      ]
     },
     "execution_count": 5,
     "metadata": {},
     "output_type": "execute_result"
    }
   ],
   "source": [
    "X_train"
   ]
  }
 ],
 "metadata": {
  "kernelspec": {
   "display_name": "Python 3 (ipykernel)",
   "language": "python",
   "name": "python3"
  },
  "language_info": {
   "codemirror_mode": {
    "name": "ipython",
    "version": 3
   },
   "file_extension": ".py",
   "mimetype": "text/x-python",
   "name": "python",
   "nbconvert_exporter": "python",
   "pygments_lexer": "ipython3",
   "version": "3.8.5"
  }
 },
 "nbformat": 4,
 "nbformat_minor": 5
}
