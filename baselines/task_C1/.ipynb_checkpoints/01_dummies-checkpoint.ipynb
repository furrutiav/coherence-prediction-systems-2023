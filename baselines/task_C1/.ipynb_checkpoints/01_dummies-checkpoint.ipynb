{
 "cells": [
  {
   "cell_type": "markdown",
   "id": "b87916e1",
   "metadata": {},
   "source": [
    "## Libreries"
   ]
  },
  {
   "cell_type": "code",
   "execution_count": 1,
   "id": "61182d52",
   "metadata": {},
   "outputs": [
    {
     "name": "stderr",
     "output_type": "stream",
     "text": [
      "C:\\Users\\felip\\anaconda3\\lib\\site-packages\\numpy\\_distributor_init.py:30: UserWarning: loaded more than 1 DLL from .libs:\n",
      "C:\\Users\\felip\\anaconda3\\lib\\site-packages\\numpy\\.libs\\libopenblas.EL2C6PLE4ZYW3ECEVIV3OXXGRN2NRFM2.gfortran-win_amd64.dll\n",
      "C:\\Users\\felip\\anaconda3\\lib\\site-packages\\numpy\\.libs\\libopenblas.XWYDX2IKJW2NMTWSFYNGFUWKQU3LYTCZ.gfortran-win_amd64.dll\n",
      "  warnings.warn(\"loaded more than 1 DLL from .libs:\"\n"
     ]
    }
   ],
   "source": [
    "import pandas as pd\n",
    "import pickle\n",
    "import numpy as np"
   ]
  },
  {
   "cell_type": "markdown",
   "id": "3d0f16b5",
   "metadata": {},
   "source": [
    "## Data"
   ]
  },
  {
   "cell_type": "code",
   "execution_count": 2,
   "id": "da9ece36",
   "metadata": {},
   "outputs": [],
   "source": [
    "A_train = pd.read_excel(\"../../data/train_task_C1.xlsx\", index_col=\"id\")\n",
    "A_val = pd.read_excel(\"../../data/val_task_C1.xlsx\", index_col=\"id\")\n",
    "A_test = pd.read_excel(\"../../data/test_task_C1.xlsx\", index_col=\"id\")"
   ]
  },
  {
   "cell_type": "code",
   "execution_count": 7,
   "id": "cec0a11a",
   "metadata": {},
   "outputs": [],
   "source": [
    "X_train = A_train[\"Q A\".split()]\n",
    "y_train = A_train[\"label\"]\n",
    "\n",
    "X_test = A_test[\"Q A\".split()]\n",
    "y_test = A_test[\"label\"]\n",
    "\n",
    "X_val = A_val[\"Q A\".split()]\n",
    "y_val = A_val[\"label\"]"
   ]
  },
  {
   "cell_type": "code",
   "execution_count": 4,
   "id": "d69500b6",
   "metadata": {},
   "outputs": [],
   "source": [
    "from sklearn.dummy import DummyClassifier"
   ]
  },
  {
   "cell_type": "code",
   "execution_count": 33,
   "id": "bdeb5af1",
   "metadata": {},
   "outputs": [
    {
     "data": {
      "text/plain": [
       "DummyClassifier(random_state=2022, strategy='uniform')"
      ]
     },
     "execution_count": 33,
     "metadata": {},
     "output_type": "execute_result"
    }
   ],
   "source": [
    "strategy = [most_frequent]\n",
    "clf = DummyClassifier(strategy=\"uniform\", random_state=2022)\n",
    "clf.fit(X_train, y_train)"
   ]
  },
  {
   "cell_type": "code",
   "execution_count": 15,
   "id": "c599a13a",
   "metadata": {},
   "outputs": [],
   "source": [
    "from sklearn.metrics import classification_report"
   ]
  },
  {
   "cell_type": "code",
   "execution_count": 34,
   "id": "de518b77",
   "metadata": {},
   "outputs": [
    {
     "data": {
      "text/html": [
       "<div>\n",
       "<style scoped>\n",
       "    .dataframe tbody tr th:only-of-type {\n",
       "        vertical-align: middle;\n",
       "    }\n",
       "\n",
       "    .dataframe tbody tr th {\n",
       "        vertical-align: top;\n",
       "    }\n",
       "\n",
       "    .dataframe thead th {\n",
       "        text-align: right;\n",
       "    }\n",
       "</style>\n",
       "<table border=\"1\" class=\"dataframe\">\n",
       "  <thead>\n",
       "    <tr style=\"text-align: right;\">\n",
       "      <th></th>\n",
       "      <th>0</th>\n",
       "      <th>1</th>\n",
       "      <th>accuracy</th>\n",
       "      <th>macro avg</th>\n",
       "      <th>weighted avg</th>\n",
       "    </tr>\n",
       "  </thead>\n",
       "  <tbody>\n",
       "    <tr>\n",
       "      <th>precision</th>\n",
       "      <td>0.863558</td>\n",
       "      <td>0.130029</td>\n",
       "      <td>0.496064</td>\n",
       "      <td>0.496793</td>\n",
       "      <td>0.765830</td>\n",
       "    </tr>\n",
       "    <tr>\n",
       "      <th>recall</th>\n",
       "      <td>0.497155</td>\n",
       "      <td>0.488961</td>\n",
       "      <td>0.496064</td>\n",
       "      <td>0.493058</td>\n",
       "      <td>0.496064</td>\n",
       "    </tr>\n",
       "    <tr>\n",
       "      <th>f1-score</th>\n",
       "      <td>0.631026</td>\n",
       "      <td>0.205429</td>\n",
       "      <td>0.496064</td>\n",
       "      <td>0.418227</td>\n",
       "      <td>0.574324</td>\n",
       "    </tr>\n",
       "    <tr>\n",
       "      <th>support</th>\n",
       "      <td>10019.000000</td>\n",
       "      <td>1540.000000</td>\n",
       "      <td>0.496064</td>\n",
       "      <td>11559.000000</td>\n",
       "      <td>11559.000000</td>\n",
       "    </tr>\n",
       "  </tbody>\n",
       "</table>\n",
       "</div>"
      ],
      "text/plain": [
       "                      0            1  accuracy     macro avg  weighted avg\n",
       "precision      0.863558     0.130029  0.496064      0.496793      0.765830\n",
       "recall         0.497155     0.488961  0.496064      0.493058      0.496064\n",
       "f1-score       0.631026     0.205429  0.496064      0.418227      0.574324\n",
       "support    10019.000000  1540.000000  0.496064  11559.000000  11559.000000"
      ]
     },
     "execution_count": 34,
     "metadata": {},
     "output_type": "execute_result"
    }
   ],
   "source": [
    "y_pred = clf.predict(X_train)\n",
    "report = classification_report(y_train, y_pred, output_dict=True)\n",
    "train_report = pd.DataFrame(report)\n",
    "train_report"
   ]
  },
  {
   "cell_type": "code",
   "execution_count": 35,
   "id": "f39618c5",
   "metadata": {},
   "outputs": [
    {
     "data": {
      "text/html": [
       "<div>\n",
       "<style scoped>\n",
       "    .dataframe tbody tr th:only-of-type {\n",
       "        vertical-align: middle;\n",
       "    }\n",
       "\n",
       "    .dataframe tbody tr th {\n",
       "        vertical-align: top;\n",
       "    }\n",
       "\n",
       "    .dataframe thead th {\n",
       "        text-align: right;\n",
       "    }\n",
       "</style>\n",
       "<table border=\"1\" class=\"dataframe\">\n",
       "  <thead>\n",
       "    <tr style=\"text-align: right;\">\n",
       "      <th></th>\n",
       "      <th>0</th>\n",
       "      <th>1</th>\n",
       "      <th>accuracy</th>\n",
       "      <th>macro avg</th>\n",
       "      <th>weighted avg</th>\n",
       "    </tr>\n",
       "  </thead>\n",
       "  <tbody>\n",
       "    <tr>\n",
       "      <th>precision</th>\n",
       "      <td>0.867835</td>\n",
       "      <td>0.135689</td>\n",
       "      <td>0.510352</td>\n",
       "      <td>0.501762</td>\n",
       "      <td>0.769812</td>\n",
       "    </tr>\n",
       "    <tr>\n",
       "      <th>recall</th>\n",
       "      <td>0.512749</td>\n",
       "      <td>0.494845</td>\n",
       "      <td>0.510352</td>\n",
       "      <td>0.503797</td>\n",
       "      <td>0.510352</td>\n",
       "    </tr>\n",
       "    <tr>\n",
       "      <th>f1-score</th>\n",
       "      <td>0.644628</td>\n",
       "      <td>0.212978</td>\n",
       "      <td>0.510352</td>\n",
       "      <td>0.428803</td>\n",
       "      <td>0.586836</td>\n",
       "    </tr>\n",
       "    <tr>\n",
       "      <th>support</th>\n",
       "      <td>2510.000000</td>\n",
       "      <td>388.000000</td>\n",
       "      <td>0.510352</td>\n",
       "      <td>2898.000000</td>\n",
       "      <td>2898.000000</td>\n",
       "    </tr>\n",
       "  </tbody>\n",
       "</table>\n",
       "</div>"
      ],
      "text/plain": [
       "                     0           1  accuracy    macro avg  weighted avg\n",
       "precision     0.867835    0.135689  0.510352     0.501762      0.769812\n",
       "recall        0.512749    0.494845  0.510352     0.503797      0.510352\n",
       "f1-score      0.644628    0.212978  0.510352     0.428803      0.586836\n",
       "support    2510.000000  388.000000  0.510352  2898.000000   2898.000000"
      ]
     },
     "execution_count": 35,
     "metadata": {},
     "output_type": "execute_result"
    }
   ],
   "source": [
    "y_pred = clf.predict(X_val)\n",
    "report = classification_report(y_val, y_pred, output_dict=True)\n",
    "val_report = pd.DataFrame(report)\n",
    "val_report"
   ]
  },
  {
   "cell_type": "code",
   "execution_count": 36,
   "id": "c0fc494a",
   "metadata": {},
   "outputs": [
    {
     "data": {
      "text/html": [
       "<div>\n",
       "<style scoped>\n",
       "    .dataframe tbody tr th:only-of-type {\n",
       "        vertical-align: middle;\n",
       "    }\n",
       "\n",
       "    .dataframe tbody tr th {\n",
       "        vertical-align: top;\n",
       "    }\n",
       "\n",
       "    .dataframe thead th {\n",
       "        text-align: right;\n",
       "    }\n",
       "</style>\n",
       "<table border=\"1\" class=\"dataframe\">\n",
       "  <thead>\n",
       "    <tr style=\"text-align: right;\">\n",
       "      <th></th>\n",
       "      <th>0</th>\n",
       "      <th>1</th>\n",
       "      <th>accuracy</th>\n",
       "      <th>macro avg</th>\n",
       "      <th>weighted avg</th>\n",
       "    </tr>\n",
       "  </thead>\n",
       "  <tbody>\n",
       "    <tr>\n",
       "      <th>precision</th>\n",
       "      <td>0.813754</td>\n",
       "      <td>0.216463</td>\n",
       "      <td>0.524372</td>\n",
       "      <td>0.515108</td>\n",
       "      <td>0.693766</td>\n",
       "    </tr>\n",
       "    <tr>\n",
       "      <th>recall</th>\n",
       "      <td>0.524954</td>\n",
       "      <td>0.522059</td>\n",
       "      <td>0.524372</td>\n",
       "      <td>0.523506</td>\n",
       "      <td>0.524372</td>\n",
       "    </tr>\n",
       "    <tr>\n",
       "      <th>f1-score</th>\n",
       "      <td>0.638202</td>\n",
       "      <td>0.306034</td>\n",
       "      <td>0.524372</td>\n",
       "      <td>0.472118</td>\n",
       "      <td>0.571474</td>\n",
       "    </tr>\n",
       "    <tr>\n",
       "      <th>support</th>\n",
       "      <td>541.000000</td>\n",
       "      <td>136.000000</td>\n",
       "      <td>0.524372</td>\n",
       "      <td>677.000000</td>\n",
       "      <td>677.000000</td>\n",
       "    </tr>\n",
       "  </tbody>\n",
       "</table>\n",
       "</div>"
      ],
      "text/plain": [
       "                    0           1  accuracy   macro avg  weighted avg\n",
       "precision    0.813754    0.216463  0.524372    0.515108      0.693766\n",
       "recall       0.524954    0.522059  0.524372    0.523506      0.524372\n",
       "f1-score     0.638202    0.306034  0.524372    0.472118      0.571474\n",
       "support    541.000000  136.000000  0.524372  677.000000    677.000000"
      ]
     },
     "execution_count": 36,
     "metadata": {},
     "output_type": "execute_result"
    }
   ],
   "source": [
    "y_pred = clf.predict(X_test)\n",
    "report = classification_report(y_test, y_pred, output_dict=True)\n",
    "test_report = pd.DataFrame(report)\n",
    "test_report"
   ]
  },
  {
   "cell_type": "code",
   "execution_count": null,
   "id": "5eb66b7a",
   "metadata": {},
   "outputs": [],
   "source": [
    "# !pip install xgboost"
   ]
  },
  {
   "cell_type": "code",
   "execution_count": 14,
   "id": "664ec8f2",
   "metadata": {},
   "outputs": [],
   "source": [
    "from xgboost import XGBClassifier\n"
   ]
  },
  {
   "cell_type": "code",
   "execution_count": 15,
   "id": "a0485a75",
   "metadata": {},
   "outputs": [],
   "source": [
    "X_train.columns = range(X_train.shape[1])"
   ]
  },
  {
   "cell_type": "code",
   "execution_count": 16,
   "id": "879ac560",
   "metadata": {},
   "outputs": [
    {
     "name": "stdout",
     "output_type": "stream",
     "text": [
      "CPU times: total: 2min 57s\n",
      "Wall time: 15.9 s\n"
     ]
    },
    {
     "data": {
      "text/plain": [
       "XGBClassifier(base_score=0.5, booster='gbtree', callbacks=None,\n",
       "              colsample_bylevel=1, colsample_bynode=1, colsample_bytree=1,\n",
       "              early_stopping_rounds=None, enable_categorical=False,\n",
       "              eval_metric=None, gamma=0, gpu_id=-1, grow_policy='depthwise',\n",
       "              importance_type=None, interaction_constraints='',\n",
       "              learning_rate=0.001, max_bin=256, max_cat_to_onehot=4,\n",
       "              max_delta_step=0, max_depth=4, max_leaves=0, min_child_weight=1,\n",
       "              missing=nan, monotone_constraints='()', n_estimators=100,\n",
       "              n_jobs=0, num_parallel_tree=1, predictor='auto',\n",
       "              random_state=2022, reg_alpha=0, reg_lambda=1, ...)"
      ]
     },
     "execution_count": 16,
     "metadata": {},
     "output_type": "execute_result"
    }
   ],
   "source": [
    "%%time\n",
    "xgb = XGBClassifier(max_depth=4, n_estimators=100, learning_rate=0.001, seed=2022)\n",
    "xgb.fit(X_train, y_train)"
   ]
  },
  {
   "cell_type": "code",
   "execution_count": 17,
   "id": "818cb738",
   "metadata": {},
   "outputs": [
    {
     "name": "stdout",
     "output_type": "stream",
     "text": [
      "              precision    recall  f1-score   support\n",
      "\n",
      "           0       0.94      0.98      0.96      2510\n",
      "           1       0.86      0.60      0.71       388\n",
      "\n",
      "    accuracy                           0.93      2898\n",
      "   macro avg       0.90      0.79      0.84      2898\n",
      "weighted avg       0.93      0.93      0.93      2898\n",
      "\n"
     ]
    }
   ],
   "source": [
    "y_pred = xgb.predict(X_val)\n",
    "print(classification_report(y_val, y_pred))"
   ]
  },
  {
   "cell_type": "code",
   "execution_count": 18,
   "id": "7fd26590",
   "metadata": {},
   "outputs": [
    {
     "name": "stdout",
     "output_type": "stream",
     "text": [
      "              precision    recall  f1-score   support\n",
      "\n",
      "           0       0.90      0.98      0.94       541\n",
      "           1       0.90      0.58      0.71       136\n",
      "\n",
      "    accuracy                           0.90       677\n",
      "   macro avg       0.90      0.78      0.82       677\n",
      "weighted avg       0.90      0.90      0.89       677\n",
      "\n"
     ]
    }
   ],
   "source": [
    "y_pred = xgb.predict(X_test)\n",
    "print(classification_report(y_test, y_pred))"
   ]
  },
  {
   "cell_type": "code",
   "execution_count": 19,
   "id": "db2a4310",
   "metadata": {},
   "outputs": [],
   "source": [
    "from sklearn.model_selection import GridSearchCV"
   ]
  },
  {
   "cell_type": "code",
   "execution_count": 20,
   "id": "79e95610",
   "metadata": {},
   "outputs": [],
   "source": [
    "parameters = {\n",
    "    'max_depth': [6, 8, 10], \n",
    "    \"n_estimators\": [125, 100, 75],\n",
    "    \"learning_rate\": [0.03, 0.1, 0.3],\n",
    "}"
   ]
  },
  {
   "cell_type": "code",
   "execution_count": 21,
   "id": "bd1ab35e",
   "metadata": {},
   "outputs": [],
   "source": [
    "clf = GridSearchCV(xgb, parameters, scoring=\"f1_macro\", cv=5, verbose=1)"
   ]
  },
  {
   "cell_type": "code",
   "execution_count": 22,
   "id": "f1574b6d",
   "metadata": {},
   "outputs": [
    {
     "name": "stdout",
     "output_type": "stream",
     "text": [
      "Fitting 5 folds for each of 27 candidates, totalling 135 fits\n",
      "CPU times: total: 8h 49min 59s\n",
      "Wall time: 46min 41s\n"
     ]
    },
    {
     "data": {
      "text/plain": [
       "GridSearchCV(cv=5,\n",
       "             estimator=XGBClassifier(base_score=0.5, booster='gbtree',\n",
       "                                     callbacks=None, colsample_bylevel=1,\n",
       "                                     colsample_bynode=1, colsample_bytree=1,\n",
       "                                     early_stopping_rounds=None,\n",
       "                                     enable_categorical=False, eval_metric=None,\n",
       "                                     gamma=0, gpu_id=-1,\n",
       "                                     grow_policy='depthwise',\n",
       "                                     importance_type=None,\n",
       "                                     interaction_constraints='',\n",
       "                                     learning_rate=0.001, max_bin=256,\n",
       "                                     max_cat_to_onehot=4, max_delta_step=0,\n",
       "                                     max_depth=4, max_leaves=0,\n",
       "                                     min_child_weight=1, missing=nan,\n",
       "                                     monotone_constraints='()',\n",
       "                                     n_estimators=100, n_jobs=0,\n",
       "                                     num_parallel_tree=1, predictor='auto',\n",
       "                                     random_state=2022, reg_alpha=0,\n",
       "                                     reg_lambda=1, ...),\n",
       "             param_grid={'learning_rate': [0.03, 0.1, 0.3],\n",
       "                         'max_depth': [6, 8, 10],\n",
       "                         'n_estimators': [125, 100, 75]},\n",
       "             scoring='f1_macro', verbose=1)"
      ]
     },
     "execution_count": 22,
     "metadata": {},
     "output_type": "execute_result"
    }
   ],
   "source": [
    "%%time\n",
    "clf.fit(X_train, y_train)"
   ]
  },
  {
   "cell_type": "code",
   "execution_count": 23,
   "id": "a0f13cb3",
   "metadata": {},
   "outputs": [
    {
     "name": "stdout",
     "output_type": "stream",
     "text": [
      "max_depth: 10\n",
      "n_estimators: 125\n",
      "learning_rate: 0.3\n"
     ]
    }
   ],
   "source": [
    "best_params = {}\n",
    "for k in parameters:\n",
    "    best_params[k] = vars(clf.best_estimator_)[k]\n",
    "    print(f\"{k}:\", best_params[k])"
   ]
  },
  {
   "cell_type": "code",
   "execution_count": 24,
   "id": "2b1cf793",
   "metadata": {},
   "outputs": [
    {
     "data": {
      "text/html": [
       "<div>\n",
       "<style scoped>\n",
       "    .dataframe tbody tr th:only-of-type {\n",
       "        vertical-align: middle;\n",
       "    }\n",
       "\n",
       "    .dataframe tbody tr th {\n",
       "        vertical-align: top;\n",
       "    }\n",
       "\n",
       "    .dataframe thead th {\n",
       "        text-align: right;\n",
       "    }\n",
       "</style>\n",
       "<table border=\"1\" class=\"dataframe\">\n",
       "  <thead>\n",
       "    <tr style=\"text-align: right;\">\n",
       "      <th></th>\n",
       "      <th>0</th>\n",
       "      <th>1</th>\n",
       "      <th>accuracy</th>\n",
       "      <th>macro avg</th>\n",
       "      <th>weighted avg</th>\n",
       "    </tr>\n",
       "  </thead>\n",
       "  <tbody>\n",
       "    <tr>\n",
       "      <th>precision</th>\n",
       "      <td>0.999601</td>\n",
       "      <td>0.999349</td>\n",
       "      <td>0.999567</td>\n",
       "      <td>0.999475</td>\n",
       "      <td>0.999567</td>\n",
       "    </tr>\n",
       "    <tr>\n",
       "      <th>recall</th>\n",
       "      <td>0.999900</td>\n",
       "      <td>0.997403</td>\n",
       "      <td>0.999567</td>\n",
       "      <td>0.998651</td>\n",
       "      <td>0.999567</td>\n",
       "    </tr>\n",
       "    <tr>\n",
       "      <th>f1-score</th>\n",
       "      <td>0.999751</td>\n",
       "      <td>0.998375</td>\n",
       "      <td>0.999567</td>\n",
       "      <td>0.999063</td>\n",
       "      <td>0.999567</td>\n",
       "    </tr>\n",
       "    <tr>\n",
       "      <th>support</th>\n",
       "      <td>10019.000000</td>\n",
       "      <td>1540.000000</td>\n",
       "      <td>0.999567</td>\n",
       "      <td>11559.000000</td>\n",
       "      <td>11559.000000</td>\n",
       "    </tr>\n",
       "  </tbody>\n",
       "</table>\n",
       "</div>"
      ],
      "text/plain": [
       "                      0            1  accuracy     macro avg  weighted avg\n",
       "precision      0.999601     0.999349  0.999567      0.999475      0.999567\n",
       "recall         0.999900     0.997403  0.999567      0.998651      0.999567\n",
       "f1-score       0.999751     0.998375  0.999567      0.999063      0.999567\n",
       "support    10019.000000  1540.000000  0.999567  11559.000000  11559.000000"
      ]
     },
     "execution_count": 24,
     "metadata": {},
     "output_type": "execute_result"
    }
   ],
   "source": [
    "y_pred = clf.predict(X_train)\n",
    "report = classification_report(y_train, y_pred, output_dict=True)\n",
    "train_report = pd.DataFrame(report)\n",
    "train_report"
   ]
  },
  {
   "cell_type": "code",
   "execution_count": 25,
   "id": "ef19df91",
   "metadata": {},
   "outputs": [
    {
     "data": {
      "text/html": [
       "<div>\n",
       "<style scoped>\n",
       "    .dataframe tbody tr th:only-of-type {\n",
       "        vertical-align: middle;\n",
       "    }\n",
       "\n",
       "    .dataframe tbody tr th {\n",
       "        vertical-align: top;\n",
       "    }\n",
       "\n",
       "    .dataframe thead th {\n",
       "        text-align: right;\n",
       "    }\n",
       "</style>\n",
       "<table border=\"1\" class=\"dataframe\">\n",
       "  <thead>\n",
       "    <tr style=\"text-align: right;\">\n",
       "      <th></th>\n",
       "      <th>0</th>\n",
       "      <th>1</th>\n",
       "      <th>accuracy</th>\n",
       "      <th>macro avg</th>\n",
       "      <th>weighted avg</th>\n",
       "    </tr>\n",
       "  </thead>\n",
       "  <tbody>\n",
       "    <tr>\n",
       "      <th>precision</th>\n",
       "      <td>0.976078</td>\n",
       "      <td>0.939655</td>\n",
       "      <td>0.971705</td>\n",
       "      <td>0.957867</td>\n",
       "      <td>0.971202</td>\n",
       "    </tr>\n",
       "    <tr>\n",
       "      <th>recall</th>\n",
       "      <td>0.991633</td>\n",
       "      <td>0.842784</td>\n",
       "      <td>0.971705</td>\n",
       "      <td>0.917208</td>\n",
       "      <td>0.971705</td>\n",
       "    </tr>\n",
       "    <tr>\n",
       "      <th>f1-score</th>\n",
       "      <td>0.983794</td>\n",
       "      <td>0.888587</td>\n",
       "      <td>0.971705</td>\n",
       "      <td>0.936191</td>\n",
       "      <td>0.971048</td>\n",
       "    </tr>\n",
       "    <tr>\n",
       "      <th>support</th>\n",
       "      <td>2510.000000</td>\n",
       "      <td>388.000000</td>\n",
       "      <td>0.971705</td>\n",
       "      <td>2898.000000</td>\n",
       "      <td>2898.000000</td>\n",
       "    </tr>\n",
       "  </tbody>\n",
       "</table>\n",
       "</div>"
      ],
      "text/plain": [
       "                     0           1  accuracy    macro avg  weighted avg\n",
       "precision     0.976078    0.939655  0.971705     0.957867      0.971202\n",
       "recall        0.991633    0.842784  0.971705     0.917208      0.971705\n",
       "f1-score      0.983794    0.888587  0.971705     0.936191      0.971048\n",
       "support    2510.000000  388.000000  0.971705  2898.000000   2898.000000"
      ]
     },
     "execution_count": 25,
     "metadata": {},
     "output_type": "execute_result"
    }
   ],
   "source": [
    "y_pred = clf.predict(X_val)\n",
    "report = classification_report(y_val, y_pred, output_dict=True)\n",
    "val_report = pd.DataFrame(report)\n",
    "val_report"
   ]
  },
  {
   "cell_type": "code",
   "execution_count": 26,
   "id": "8cb583f6",
   "metadata": {},
   "outputs": [
    {
     "data": {
      "text/html": [
       "<div>\n",
       "<style scoped>\n",
       "    .dataframe tbody tr th:only-of-type {\n",
       "        vertical-align: middle;\n",
       "    }\n",
       "\n",
       "    .dataframe tbody tr th {\n",
       "        vertical-align: top;\n",
       "    }\n",
       "\n",
       "    .dataframe thead th {\n",
       "        text-align: right;\n",
       "    }\n",
       "</style>\n",
       "<table border=\"1\" class=\"dataframe\">\n",
       "  <thead>\n",
       "    <tr style=\"text-align: right;\">\n",
       "      <th></th>\n",
       "      <th>0</th>\n",
       "      <th>1</th>\n",
       "      <th>accuracy</th>\n",
       "      <th>macro avg</th>\n",
       "      <th>weighted avg</th>\n",
       "    </tr>\n",
       "  </thead>\n",
       "  <tbody>\n",
       "    <tr>\n",
       "      <th>precision</th>\n",
       "      <td>0.932836</td>\n",
       "      <td>0.709220</td>\n",
       "      <td>0.886263</td>\n",
       "      <td>0.821028</td>\n",
       "      <td>0.887914</td>\n",
       "    </tr>\n",
       "    <tr>\n",
       "      <th>recall</th>\n",
       "      <td>0.924214</td>\n",
       "      <td>0.735294</td>\n",
       "      <td>0.886263</td>\n",
       "      <td>0.829754</td>\n",
       "      <td>0.886263</td>\n",
       "    </tr>\n",
       "    <tr>\n",
       "      <th>f1-score</th>\n",
       "      <td>0.928505</td>\n",
       "      <td>0.722022</td>\n",
       "      <td>0.886263</td>\n",
       "      <td>0.825263</td>\n",
       "      <td>0.887025</td>\n",
       "    </tr>\n",
       "    <tr>\n",
       "      <th>support</th>\n",
       "      <td>541.000000</td>\n",
       "      <td>136.000000</td>\n",
       "      <td>0.886263</td>\n",
       "      <td>677.000000</td>\n",
       "      <td>677.000000</td>\n",
       "    </tr>\n",
       "  </tbody>\n",
       "</table>\n",
       "</div>"
      ],
      "text/plain": [
       "                    0           1  accuracy   macro avg  weighted avg\n",
       "precision    0.932836    0.709220  0.886263    0.821028      0.887914\n",
       "recall       0.924214    0.735294  0.886263    0.829754      0.886263\n",
       "f1-score     0.928505    0.722022  0.886263    0.825263      0.887025\n",
       "support    541.000000  136.000000  0.886263  677.000000    677.000000"
      ]
     },
     "execution_count": 26,
     "metadata": {},
     "output_type": "execute_result"
    }
   ],
   "source": [
    "y_pred = clf.predict(X_test)\n",
    "report = classification_report(y_test, y_pred, output_dict=True)\n",
    "test_report = pd.DataFrame(report)\n",
    "test_report"
   ]
  },
  {
   "cell_type": "markdown",
   "id": "64bf87e9",
   "metadata": {},
   "source": [
    "## Save pickle"
   ]
  },
  {
   "cell_type": "code",
   "execution_count": 27,
   "id": "2aa721ff",
   "metadata": {},
   "outputs": [],
   "source": [
    "pickle.dump(clf, open(\"results/clf_xgboost_mix_task_C1.pickle\", \"wb\"))"
   ]
  },
  {
   "cell_type": "code",
   "execution_count": 28,
   "id": "423e2f93",
   "metadata": {},
   "outputs": [],
   "source": [
    "pickle.dump(best_params, open(\"results/best_params_xgboost_mix_task_C1.pickle\", \"wb\"))"
   ]
  },
  {
   "cell_type": "code",
   "execution_count": 29,
   "id": "9fc7a4dc",
   "metadata": {},
   "outputs": [],
   "source": [
    "pickle.dump(train_report, open(\"results/train_report_xgboost_mix_task_C1.pickle\", \"wb\"))"
   ]
  },
  {
   "cell_type": "code",
   "execution_count": 30,
   "id": "3c242113",
   "metadata": {},
   "outputs": [],
   "source": [
    "pickle.dump(val_report, open(\"results/val_report_xgboost_mix_task_C1.pickle\", \"wb\"))"
   ]
  },
  {
   "cell_type": "code",
   "execution_count": 31,
   "id": "cd8657ad",
   "metadata": {},
   "outputs": [],
   "source": [
    "pickle.dump(test_report, open(\"results/test_report_xgboost_mix_task_C1.pickle\", \"wb\"))"
   ]
  }
 ],
 "metadata": {
  "kernelspec": {
   "display_name": "Python 3 (ipykernel)",
   "language": "python",
   "name": "python3"
  },
  "language_info": {
   "codemirror_mode": {
    "name": "ipython",
    "version": 3
   },
   "file_extension": ".py",
   "mimetype": "text/x-python",
   "name": "python",
   "nbconvert_exporter": "python",
   "pygments_lexer": "ipython3",
   "version": "3.8.5"
  }
 },
 "nbformat": 4,
 "nbformat_minor": 5
}
