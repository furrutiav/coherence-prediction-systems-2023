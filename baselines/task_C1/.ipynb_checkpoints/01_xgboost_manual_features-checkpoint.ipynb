{
 "cells": [
  {
   "cell_type": "markdown",
   "id": "e8225bb2",
   "metadata": {},
   "source": [
    "## Libreries"
   ]
  },
  {
   "cell_type": "code",
   "execution_count": 1,
   "id": "c5f7e5d9",
   "metadata": {},
   "outputs": [],
   "source": [
    "import pandas as pd\n",
    "import pickle\n",
    "import numpy as np"
   ]
  },
  {
   "cell_type": "markdown",
   "id": "645b37e7",
   "metadata": {},
   "source": [
    "## Data"
   ]
  },
  {
   "cell_type": "code",
   "execution_count": 2,
   "id": "bac24508",
   "metadata": {},
   "outputs": [
    {
     "name": "stdout",
     "output_type": "stream",
     "text": [
      "CPU times: total: 3min 10s\n",
      "Wall time: 3min 10s\n"
     ]
    }
   ],
   "source": [
    "%%time\n",
    "features_train = pd.read_excel(\"../../feature-engineering/features/mf_features_train_task_C1.xlsx\", index_col=\"id\")\n",
    "features_val = pd.read_excel(\"../../feature-engineering/features/mf_features_val_task_C1.xlsx\", index_col=\"id\")\n",
    "features_test = pd.read_excel(\"../../feature-engineering/features/mf_features_test_task_C1.xlsx\", index_col=\"id\")"
   ]
  },
  {
   "cell_type": "code",
   "execution_count": 3,
   "id": "b4766cbe",
   "metadata": {},
   "outputs": [
    {
     "name": "stdout",
     "output_type": "stream",
     "text": [
      "CPU times: total: 1.55 s\n",
      "Wall time: 1.55 s\n"
     ]
    }
   ],
   "source": [
    "%%time\n",
    "A_train = pd.read_excel(\"../../data/train_task_C1.xlsx\", index_col=\"id\")\n",
    "A_val = pd.read_excel(\"../../data/val_task_C1.xlsx\", index_col=\"id\")\n",
    "A_test = pd.read_excel(\"../../data/test_task_C1.xlsx\", index_col=\"id\")"
   ]
  },
  {
   "cell_type": "code",
   "execution_count": 4,
   "id": "0740be38",
   "metadata": {},
   "outputs": [],
   "source": [
    "X_train, y_train = features_train, A_train[\"label\"]\n",
    "X_train = X_train.loc[y_train.index]\n",
    "\n",
    "X_test, y_test = features_test, A_test[\"label\"]\n",
    "X_test = X_test.loc[y_test.index]\n",
    "\n",
    "X_val, y_val = features_val, A_val[\"label\"]\n",
    "X_val = X_val.loc[y_val.index]"
   ]
  },
  {
   "cell_type": "markdown",
   "id": "3305eb7e",
   "metadata": {},
   "source": []
  },
  {
   "cell_type": "code",
   "execution_count": 5,
   "id": "3a395754",
   "metadata": {},
   "outputs": [
    {
     "data": {
      "text/plain": [
       "{'contextual', 'linguistic', 'semantic', 'traditional'}"
      ]
     },
     "execution_count": 5,
     "metadata": {},
     "output_type": "execute_result"
    }
   ],
   "source": [
    "set([c.split(\"<&>\")[0] for c in features_train.columns])"
   ]
  },
  {
   "cell_type": "code",
   "execution_count": 7,
   "id": "1457a972",
   "metadata": {},
   "outputs": [
    {
     "name": "stdout",
     "output_type": "stream",
     "text": [
      "Collecting xgboost\n",
      "  Downloading xgboost-1.6.1-py3-none-win_amd64.whl (125.4 MB)\n",
      "Requirement already satisfied: numpy in c:\\users\\felip\\anaconda3\\envs\\nn\\lib\\site-packages (from xgboost) (1.22.3)\n",
      "Requirement already satisfied: scipy in c:\\users\\felip\\anaconda3\\envs\\nn\\lib\\site-packages (from xgboost) (1.7.3)\n",
      "Installing collected packages: xgboost\n",
      "Successfully installed xgboost-1.6.1\n"
     ]
    }
   ],
   "source": [
    "!pip install xgboost"
   ]
  },
  {
   "cell_type": "code",
   "execution_count": 8,
   "id": "6921144e",
   "metadata": {},
   "outputs": [],
   "source": [
    "from xgboost import XGBClassifier\n",
    "from sklearn.metrics import classification_report"
   ]
  },
  {
   "cell_type": "code",
   "execution_count": 12,
   "id": "eb9ae42c",
   "metadata": {},
   "outputs": [],
   "source": [
    "X_train.columns = range(X_train.shape[1])"
   ]
  },
  {
   "cell_type": "code",
   "execution_count": 81,
   "id": "08a6be39",
   "metadata": {},
   "outputs": [
    {
     "name": "stdout",
     "output_type": "stream",
     "text": [
      "CPU times: total: 35.8 s\n",
      "Wall time: 3.25 s\n"
     ]
    },
    {
     "data": {
      "text/plain": [
       "XGBClassifier(base_score=0.5, booster='gbtree', callbacks=None,\n",
       "              colsample_bylevel=1, colsample_bynode=1, colsample_bytree=1,\n",
       "              early_stopping_rounds=None, enable_categorical=False,\n",
       "              eval_metric=None, gamma=0, gpu_id=-1, grow_policy='depthwise',\n",
       "              importance_type=None, interaction_constraints='',\n",
       "              learning_rate=0.001, max_bin=256, max_cat_to_onehot=4,\n",
       "              max_delta_step=0, max_depth=4, max_leaves=0, min_child_weight=1,\n",
       "              missing=nan, monotone_constraints='()', n_estimators=100,\n",
       "              n_jobs=0, num_parallel_tree=1, predictor='auto',\n",
       "              random_state=2022, reg_alpha=0, reg_lambda=1, ...)"
      ]
     },
     "execution_count": 81,
     "metadata": {},
     "output_type": "execute_result"
    }
   ],
   "source": [
    "%%time\n",
    "xgb = XGBClassifier(max_depth=4, n_estimators=100, learning_rate=0.001, seed=2022)\n",
    "xgb.fit(X_train, y_train)"
   ]
  },
  {
   "cell_type": "code",
   "execution_count": 84,
   "id": "73386cb1",
   "metadata": {},
   "outputs": [
    {
     "name": "stdout",
     "output_type": "stream",
     "text": [
      "              precision    recall  f1-score   support\n",
      "\n",
      "           0       0.94      0.98      0.96      2510\n",
      "           1       0.81      0.63      0.71       388\n",
      "\n",
      "    accuracy                           0.93      2898\n",
      "   macro avg       0.88      0.80      0.83      2898\n",
      "weighted avg       0.93      0.93      0.93      2898\n",
      "\n"
     ]
    }
   ],
   "source": [
    "y_pred = xgb.predict(X_val)\n",
    "print(classification_report(y_val, y_pred))"
   ]
  },
  {
   "cell_type": "code",
   "execution_count": 85,
   "id": "dacf5f0e",
   "metadata": {},
   "outputs": [
    {
     "name": "stdout",
     "output_type": "stream",
     "text": [
      "              precision    recall  f1-score   support\n",
      "\n",
      "           0       0.92      0.98      0.95       541\n",
      "           1       0.89      0.64      0.74       136\n",
      "\n",
      "    accuracy                           0.91       677\n",
      "   macro avg       0.90      0.81      0.85       677\n",
      "weighted avg       0.91      0.91      0.91       677\n",
      "\n"
     ]
    }
   ],
   "source": [
    "y_pred = xgb.predict(X_test)\n",
    "print(classification_report(y_test, y_pred))"
   ]
  },
  {
   "cell_type": "code",
   "execution_count": 79,
   "id": "55663cf9",
   "metadata": {},
   "outputs": [],
   "source": [
    "from sklearn.model_selection import GridSearchCV"
   ]
  },
  {
   "cell_type": "code",
   "execution_count": 80,
   "id": "1727a817",
   "metadata": {},
   "outputs": [],
   "source": [
    "parameters = {\n",
    "    'max_depth': [6, 8, 10], \n",
    "    \"n_estimators\": [125, 100, 75],\n",
    "    \"learning_rate\": [0.03, 0.1, 0.3],\n",
    "}"
   ]
  },
  {
   "cell_type": "code",
   "execution_count": 86,
   "id": "b0831b23",
   "metadata": {},
   "outputs": [],
   "source": [
    "clf = GridSearchCV(xgb, parameters, scoring=\"f1_macro\", cv=5, verbose=1)"
   ]
  },
  {
   "cell_type": "code",
   "execution_count": 87,
   "id": "51757794",
   "metadata": {},
   "outputs": [
    {
     "name": "stdout",
     "output_type": "stream",
     "text": [
      "Fitting 5 folds for each of 75 candidates, totalling 375 fits\n",
      "CPU times: total: 2h 31min 58s\n",
      "Wall time: 13min 53s\n"
     ]
    },
    {
     "data": {
      "text/plain": [
       "GridSearchCV(cv=5,\n",
       "             estimator=XGBClassifier(base_score=0.5, booster='gbtree',\n",
       "                                     callbacks=None, colsample_bylevel=1,\n",
       "                                     colsample_bynode=1, colsample_bytree=1,\n",
       "                                     early_stopping_rounds=None,\n",
       "                                     enable_categorical=False, eval_metric=None,\n",
       "                                     gamma=0, gpu_id=-1,\n",
       "                                     grow_policy='depthwise',\n",
       "                                     importance_type=None,\n",
       "                                     interaction_constraints='',\n",
       "                                     learning_rate=0.001, max_bin=256,\n",
       "                                     max_cat_to_onehot=4, max_delta_step=0,\n",
       "                                     max_depth=4, max_leaves=0,\n",
       "                                     min_child_weight=1, missing=nan,\n",
       "                                     monotone_constraints='()',\n",
       "                                     n_estimators=100, n_jobs=0,\n",
       "                                     num_parallel_tree=1, predictor='auto',\n",
       "                                     random_state=2022, reg_alpha=0,\n",
       "                                     reg_lambda=1, ...),\n",
       "             param_grid={'learning_rate': [0.001, 0.03, 0.1],\n",
       "                         'max_depth': [2, 4, 6, 8, 10],\n",
       "                         'n_estimators': [100, 75, 50, 25, 10]},\n",
       "             scoring='f1_macro', verbose=1)"
      ]
     },
     "execution_count": 87,
     "metadata": {},
     "output_type": "execute_result"
    }
   ],
   "source": [
    "%%time\n",
    "clf.fit(X_train, y_train)"
   ]
  },
  {
   "cell_type": "code",
   "execution_count": 103,
   "id": "29e13d7d",
   "metadata": {},
   "outputs": [
    {
     "name": "stdout",
     "output_type": "stream",
     "text": [
      "max_depth: 8\n",
      "n_estimators: 100\n",
      "learning_rate: 0.1\n"
     ]
    }
   ],
   "source": [
    "best_params = {}\n",
    "for k in parameters:\n",
    "    best_params[k] = vars(clf.best_estimator_)[k]\n",
    "    print(f\"{k}:\", best_params[k])"
   ]
  },
  {
   "cell_type": "code",
   "execution_count": 107,
   "id": "f8ea3bfe",
   "metadata": {},
   "outputs": [
    {
     "data": {
      "text/html": [
       "<div>\n",
       "<style scoped>\n",
       "    .dataframe tbody tr th:only-of-type {\n",
       "        vertical-align: middle;\n",
       "    }\n",
       "\n",
       "    .dataframe tbody tr th {\n",
       "        vertical-align: top;\n",
       "    }\n",
       "\n",
       "    .dataframe thead th {\n",
       "        text-align: right;\n",
       "    }\n",
       "</style>\n",
       "<table border=\"1\" class=\"dataframe\">\n",
       "  <thead>\n",
       "    <tr style=\"text-align: right;\">\n",
       "      <th></th>\n",
       "      <th>0</th>\n",
       "      <th>1</th>\n",
       "      <th>accuracy</th>\n",
       "      <th>macro avg</th>\n",
       "      <th>weighted avg</th>\n",
       "    </tr>\n",
       "  </thead>\n",
       "  <tbody>\n",
       "    <tr>\n",
       "      <th>precision</th>\n",
       "      <td>0.988367</td>\n",
       "      <td>0.948035</td>\n",
       "      <td>0.98313</td>\n",
       "      <td>0.968201</td>\n",
       "      <td>0.982994</td>\n",
       "    </tr>\n",
       "    <tr>\n",
       "      <th>recall</th>\n",
       "      <td>0.992215</td>\n",
       "      <td>0.924026</td>\n",
       "      <td>0.98313</td>\n",
       "      <td>0.958120</td>\n",
       "      <td>0.983130</td>\n",
       "    </tr>\n",
       "    <tr>\n",
       "      <th>f1-score</th>\n",
       "      <td>0.990287</td>\n",
       "      <td>0.935876</td>\n",
       "      <td>0.98313</td>\n",
       "      <td>0.963082</td>\n",
       "      <td>0.983038</td>\n",
       "    </tr>\n",
       "    <tr>\n",
       "      <th>support</th>\n",
       "      <td>10019.000000</td>\n",
       "      <td>1540.000000</td>\n",
       "      <td>0.98313</td>\n",
       "      <td>11559.000000</td>\n",
       "      <td>11559.000000</td>\n",
       "    </tr>\n",
       "  </tbody>\n",
       "</table>\n",
       "</div>"
      ],
      "text/plain": [
       "                      0            1  accuracy     macro avg  weighted avg\n",
       "precision      0.988367     0.948035   0.98313      0.968201      0.982994\n",
       "recall         0.992215     0.924026   0.98313      0.958120      0.983130\n",
       "f1-score       0.990287     0.935876   0.98313      0.963082      0.983038\n",
       "support    10019.000000  1540.000000   0.98313  11559.000000  11559.000000"
      ]
     },
     "execution_count": 107,
     "metadata": {},
     "output_type": "execute_result"
    }
   ],
   "source": [
    "y_pred = clf.predict(X_train)\n",
    "report = classification_report(y_train, y_pred, output_dict=True)\n",
    "train_report = pd.DataFrame(report)\n",
    "train_report"
   ]
  },
  {
   "cell_type": "code",
   "execution_count": 108,
   "id": "098bdb9f",
   "metadata": {},
   "outputs": [
    {
     "data": {
      "text/html": [
       "<div>\n",
       "<style scoped>\n",
       "    .dataframe tbody tr th:only-of-type {\n",
       "        vertical-align: middle;\n",
       "    }\n",
       "\n",
       "    .dataframe tbody tr th {\n",
       "        vertical-align: top;\n",
       "    }\n",
       "\n",
       "    .dataframe thead th {\n",
       "        text-align: right;\n",
       "    }\n",
       "</style>\n",
       "<table border=\"1\" class=\"dataframe\">\n",
       "  <thead>\n",
       "    <tr style=\"text-align: right;\">\n",
       "      <th></th>\n",
       "      <th>0</th>\n",
       "      <th>1</th>\n",
       "      <th>accuracy</th>\n",
       "      <th>macro avg</th>\n",
       "      <th>weighted avg</th>\n",
       "    </tr>\n",
       "  </thead>\n",
       "  <tbody>\n",
       "    <tr>\n",
       "      <th>precision</th>\n",
       "      <td>0.969816</td>\n",
       "      <td>0.896254</td>\n",
       "      <td>0.961008</td>\n",
       "      <td>0.933035</td>\n",
       "      <td>0.959967</td>\n",
       "    </tr>\n",
       "    <tr>\n",
       "      <th>recall</th>\n",
       "      <td>0.985657</td>\n",
       "      <td>0.801546</td>\n",
       "      <td>0.961008</td>\n",
       "      <td>0.893602</td>\n",
       "      <td>0.961008</td>\n",
       "    </tr>\n",
       "    <tr>\n",
       "      <th>f1-score</th>\n",
       "      <td>0.977672</td>\n",
       "      <td>0.846259</td>\n",
       "      <td>0.961008</td>\n",
       "      <td>0.911965</td>\n",
       "      <td>0.960078</td>\n",
       "    </tr>\n",
       "    <tr>\n",
       "      <th>support</th>\n",
       "      <td>2510.000000</td>\n",
       "      <td>388.000000</td>\n",
       "      <td>0.961008</td>\n",
       "      <td>2898.000000</td>\n",
       "      <td>2898.000000</td>\n",
       "    </tr>\n",
       "  </tbody>\n",
       "</table>\n",
       "</div>"
      ],
      "text/plain": [
       "                     0           1  accuracy    macro avg  weighted avg\n",
       "precision     0.969816    0.896254  0.961008     0.933035      0.959967\n",
       "recall        0.985657    0.801546  0.961008     0.893602      0.961008\n",
       "f1-score      0.977672    0.846259  0.961008     0.911965      0.960078\n",
       "support    2510.000000  388.000000  0.961008  2898.000000   2898.000000"
      ]
     },
     "execution_count": 108,
     "metadata": {},
     "output_type": "execute_result"
    }
   ],
   "source": [
    "y_pred = clf.predict(X_val)\n",
    "report = classification_report(y_val, y_pred, output_dict=True)\n",
    "val_report = pd.DataFrame(report)\n",
    "val_report"
   ]
  },
  {
   "cell_type": "code",
   "execution_count": 109,
   "id": "32dcc1b6",
   "metadata": {},
   "outputs": [
    {
     "data": {
      "text/html": [
       "<div>\n",
       "<style scoped>\n",
       "    .dataframe tbody tr th:only-of-type {\n",
       "        vertical-align: middle;\n",
       "    }\n",
       "\n",
       "    .dataframe tbody tr th {\n",
       "        vertical-align: top;\n",
       "    }\n",
       "\n",
       "    .dataframe thead th {\n",
       "        text-align: right;\n",
       "    }\n",
       "</style>\n",
       "<table border=\"1\" class=\"dataframe\">\n",
       "  <thead>\n",
       "    <tr style=\"text-align: right;\">\n",
       "      <th></th>\n",
       "      <th>0</th>\n",
       "      <th>1</th>\n",
       "      <th>accuracy</th>\n",
       "      <th>macro avg</th>\n",
       "      <th>weighted avg</th>\n",
       "    </tr>\n",
       "  </thead>\n",
       "  <tbody>\n",
       "    <tr>\n",
       "      <th>precision</th>\n",
       "      <td>0.929236</td>\n",
       "      <td>0.700000</td>\n",
       "      <td>0.881832</td>\n",
       "      <td>0.814618</td>\n",
       "      <td>0.883186</td>\n",
       "    </tr>\n",
       "    <tr>\n",
       "      <th>recall</th>\n",
       "      <td>0.922366</td>\n",
       "      <td>0.720588</td>\n",
       "      <td>0.881832</td>\n",
       "      <td>0.821477</td>\n",
       "      <td>0.881832</td>\n",
       "    </tr>\n",
       "    <tr>\n",
       "      <th>f1-score</th>\n",
       "      <td>0.925788</td>\n",
       "      <td>0.710145</td>\n",
       "      <td>0.881832</td>\n",
       "      <td>0.817967</td>\n",
       "      <td>0.882469</td>\n",
       "    </tr>\n",
       "    <tr>\n",
       "      <th>support</th>\n",
       "      <td>541.000000</td>\n",
       "      <td>136.000000</td>\n",
       "      <td>0.881832</td>\n",
       "      <td>677.000000</td>\n",
       "      <td>677.000000</td>\n",
       "    </tr>\n",
       "  </tbody>\n",
       "</table>\n",
       "</div>"
      ],
      "text/plain": [
       "                    0           1  accuracy   macro avg  weighted avg\n",
       "precision    0.929236    0.700000  0.881832    0.814618      0.883186\n",
       "recall       0.922366    0.720588  0.881832    0.821477      0.881832\n",
       "f1-score     0.925788    0.710145  0.881832    0.817967      0.882469\n",
       "support    541.000000  136.000000  0.881832  677.000000    677.000000"
      ]
     },
     "execution_count": 109,
     "metadata": {},
     "output_type": "execute_result"
    }
   ],
   "source": [
    "y_pred = clf.predict(X_test)\n",
    "report = classification_report(y_test, y_pred, output_dict=True)\n",
    "test_report = pd.DataFrame(report)\n",
    "test_report"
   ]
  },
  {
   "cell_type": "markdown",
   "id": "cf979c7c",
   "metadata": {},
   "source": [
    "## Save pickle"
   ]
  },
  {
   "cell_type": "code",
   "execution_count": 113,
   "id": "41d3f011",
   "metadata": {},
   "outputs": [],
   "source": [
    "pickle.dump(clf, open(\"results/clf_xgboost_mf_task_C1.pickle\", \"wb\"))"
   ]
  },
  {
   "cell_type": "code",
   "execution_count": 114,
   "id": "96d19ef8",
   "metadata": {},
   "outputs": [],
   "source": [
    "pickle.dump(best_params, open(\"results/best_params_xgboost_mf_task_C1.pickle\", \"wb\"))"
   ]
  },
  {
   "cell_type": "code",
   "execution_count": 115,
   "id": "f9d59d20",
   "metadata": {},
   "outputs": [],
   "source": [
    "pickle.dump(train_report, open(\"results/train_report_xgboost_mf_task_C1.pickle\", \"wb\"))"
   ]
  },
  {
   "cell_type": "code",
   "execution_count": 116,
   "id": "bdd83089",
   "metadata": {},
   "outputs": [],
   "source": [
    "pickle.dump(val_report, open(\"results/val_report_xgboost_mf_task_C1.pickle\", \"wb\"))"
   ]
  },
  {
   "cell_type": "code",
   "execution_count": 117,
   "id": "a950a0d8",
   "metadata": {},
   "outputs": [],
   "source": [
    "pickle.dump(test_report, open(\"results/test_report_xgboost_mf_task_C1.pickle\", \"wb\"))"
   ]
  }
 ],
 "metadata": {
  "kernelspec": {
   "display_name": "Python 3 (ipykernel)",
   "language": "python",
   "name": "python3"
  },
  "language_info": {
   "codemirror_mode": {
    "name": "ipython",
    "version": 3
   },
   "file_extension": ".py",
   "mimetype": "text/x-python",
   "name": "python",
   "nbconvert_exporter": "python",
   "pygments_lexer": "ipython3",
   "version": "3.8.13"
  }
 },
 "nbformat": 4,
 "nbformat_minor": 5
}
